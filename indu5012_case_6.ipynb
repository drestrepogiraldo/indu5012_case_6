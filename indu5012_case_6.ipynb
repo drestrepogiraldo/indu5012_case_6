{
 "cells": [
  {
   "cell_type": "markdown",
   "source": "# Case 5 - AIRBNB Santiago de Chile",
   "metadata": {
    "cell_id": "eec3284c-28bc-45c4-a842-483910814c6f",
    "tags": [],
    "deepnote_cell_type": "markdown"
   }
  },
  {
   "cell_type": "markdown",
   "source": "## Introduction\n**Context.** \nFor this case we are going to assume that you are interested on setting an Airbnb rental in [Santiago (Chile)](https://es.wikipedia.org/wiki/Santiago_de_Chile) and you want to make a model that can be able to predict the price of the rental in order to provide actionable recommendations for the setting of this new business\n\n**Problem.**\nIn order to do that, you are requiered to build a lineal model of the price, and having as independent variables any variables from the provided information",
   "metadata": {
    "cell_id": "7dc3e6f5-3343-4220-8149-1fdc558e2265",
    "tags": [],
    "deepnote_cell_type": "markdown"
   }
  },
  {
   "cell_type": "markdown",
   "source": "## Packages Import",
   "metadata": {
    "cell_id": "4757498e-dbd1-4701-8422-c0ff3e73b338",
    "tags": [],
    "deepnote_cell_type": "markdown"
   }
  },
  {
   "cell_type": "code",
   "source": "!pip install statsmodels",
   "metadata": {
    "cell_id": "097b2c3d-d3d5-4d9b-b8d1-6c666f77205a",
    "tags": [],
    "deepnote_to_be_reexecuted": false,
    "source_hash": "471f39dc",
    "execution_start": 1644420090761,
    "execution_millis": 425209,
    "deepnote_cell_type": "code"
   },
   "outputs": [
    {
     "name": "stdout",
     "text": "Collecting statsmodels\n  Downloading statsmodels-0.13.2.tar.gz (17.9 MB)\n\u001b[K     |████████████████████████████████| 17.9 MB 28.1 MB/s \n\u001b[?25h  Installing build dependencies ... \u001b[?25ldone\n\u001b[?25h  Getting requirements to build wheel ... \u001b[?25ldone\n\u001b[?25h    Preparing wheel metadata ... \u001b[?25ldone\n\u001b[?25hRequirement already satisfied: numpy>=1.17 in /shared-libs/python3.7/py/lib/python3.7/site-packages (from statsmodels) (1.19.5)\nRequirement already satisfied: scipy>=1.3 in /shared-libs/python3.7/py/lib/python3.7/site-packages (from statsmodels) (1.7.3)\nRequirement already satisfied: pandas>=0.25 in /shared-libs/python3.7/py/lib/python3.7/site-packages (from statsmodels) (1.2.5)\nRequirement already satisfied: packaging>=21.3 in /shared-libs/python3.7/py-core/lib/python3.7/site-packages (from statsmodels) (21.3)\nCollecting patsy>=0.5.2\n  Downloading patsy-0.5.2-py2.py3-none-any.whl (233 kB)\n\u001b[K     |████████████████████████████████| 233 kB 37.6 MB/s \n\u001b[?25hRequirement already satisfied: pytz>=2017.3 in /shared-libs/python3.7/py/lib/python3.7/site-packages (from pandas>=0.25->statsmodels) (2021.3)\nRequirement already satisfied: python-dateutil>=2.7.3 in /shared-libs/python3.7/py-core/lib/python3.7/site-packages (from pandas>=0.25->statsmodels) (2.8.2)\nRequirement already satisfied: pyparsing!=3.0.5,>=2.0.2 in /shared-libs/python3.7/py-core/lib/python3.7/site-packages (from packaging>=21.3->statsmodels) (3.0.6)\nRequirement already satisfied: six in /shared-libs/python3.7/py-core/lib/python3.7/site-packages (from patsy>=0.5.2->statsmodels) (1.16.0)\nBuilding wheels for collected packages: statsmodels\n  Building wheel for statsmodels (PEP 517) ... \u001b[?25ldone\n\u001b[?25h  Created wheel for statsmodels: filename=statsmodels-0.13.2-cp37-cp37m-linux_x86_64.whl size=9661355 sha256=20d70e920629c35290b1a1b465c3ad8e3b2130165fc0751cb848439cf727f4b6\n  Stored in directory: /root/.cache/pip/wheels/41/bf/33/c8466a56abee5fbadfd19dedf55a8a4feff81751f6185984c7\nSuccessfully built statsmodels\nInstalling collected packages: patsy, statsmodels\nSuccessfully installed patsy-0.5.2 statsmodels-0.13.2\n\u001b[33mWARNING: You are using pip version 20.1.1; however, version 22.0.3 is available.\nYou should consider upgrading via the '/root/venv/bin/python -m pip install --upgrade pip' command.\u001b[0m\n",
     "output_type": "stream"
    }
   ],
   "execution_count": null
  },
  {
   "cell_type": "code",
   "source": "import pandas as pd\nimport numpy as np\nimport matplotlib.pyplot as plt\nimport seaborn as sns\nimport statsmodels.api as sm\nimport statsmodels.formula.api as smf\nfrom matplotlib import cm\nfrom pandas.plotting import scatter_matrix\nimport statsmodels.graphics.correlation\nfrom statsmodels.stats import diagnostic",
   "metadata": {
    "cell_id": "c92fd41e-d824-4a49-aac4-cbb4fb65e057",
    "tags": [],
    "deepnote_to_be_reexecuted": false,
    "source_hash": "6fc383e1",
    "execution_start": 1644420700891,
    "execution_millis": 0,
    "deepnote_cell_type": "code"
   },
   "outputs": [],
   "execution_count": null
  },
  {
   "cell_type": "markdown",
   "source": "## Data Import",
   "metadata": {
    "cell_id": "d423859f-3100-4e1c-8460-e6f0861a2631",
    "tags": [],
    "deepnote_cell_type": "markdown"
   }
  },
  {
   "cell_type": "markdown",
   "source": "All data used on this case is pulished under a [Public Domain](http://creativecommons.org/publicdomain/zero/1.0/) license directly from [Airbnb](http://insideairbnb.com/get-the-data.html).\n\nData tables are usually accompanied by a data dictionary that explains the content of the information contained in one of the columns and some times provides some business context.\nIn the case of these data, the dictionary can be obtained at: [Data Dictionary](https://docs.google.com/spreadsheets/d/1iWCNJcSutYqpULSQHlNyGInUvHg2BoUGoNRIGa6Szc4/edit#gid=982310896)",
   "metadata": {
    "cell_id": "6de8490d-958b-47ab-91f0-3c5bcd054081",
    "tags": [],
    "deepnote_cell_type": "markdown"
   }
  },
  {
   "cell_type": "code",
   "source": "df_santiago = pd.read_csv('/work/indu5012_case_6/data/listings_AIRBNB_Santiago.csv')\ndf_santiago.head(5)",
   "metadata": {
    "cell_id": "c921bda2-f535-4ca4-80d8-c31f0604106b",
    "tags": [],
    "deepnote_to_be_reexecuted": false,
    "source_hash": "32ececc6",
    "execution_start": 1644420911444,
    "execution_millis": 784,
    "deepnote_cell_type": "code"
   },
   "outputs": [
    {
     "output_type": "execute_result",
     "execution_count": 6,
     "data": {
      "application/vnd.deepnote.dataframe.v3+json": {
       "column_count": 74,
       "row_count": 5,
       "columns": [
        {
         "name": "id",
         "dtype": "int64",
         "stats": {
          "unique_count": 5,
          "nan_count": 0,
          "min": "30950",
          "max": "55303",
          "histogram": [
           {
            "bin_start": 30950,
            "bin_end": 33385.3,
            "count": 1
           },
           {
            "bin_start": 33385.3,
            "bin_end": 35820.6,
            "count": 0
           },
           {
            "bin_start": 35820.6,
            "bin_end": 38255.9,
            "count": 0
           },
           {
            "bin_start": 38255.9,
            "bin_end": 40691.2,
            "count": 0
           },
           {
            "bin_start": 40691.2,
            "bin_end": 43126.5,
            "count": 0
           },
           {
            "bin_start": 43126.5,
            "bin_end": 45561.8,
            "count": 0
           },
           {
            "bin_start": 45561.8,
            "bin_end": 47997.100000000006,
            "count": 0
           },
           {
            "bin_start": 47997.100000000006,
            "bin_end": 50432.4,
            "count": 1
           },
           {
            "bin_start": 50432.4,
            "bin_end": 52867.7,
            "count": 1
           },
           {
            "bin_start": 52867.7,
            "bin_end": 55303,
            "count": 2
           }
          ]
         }
        },
        {
         "name": "listing_url",
         "dtype": "object",
         "stats": {
          "unique_count": 5,
          "nan_count": 0,
          "categories": [
           {
            "name": "https://www.airbnb.com/rooms/30950",
            "count": 1
           },
           {
            "name": "https://www.airbnb.com/rooms/49392",
            "count": 1
           },
           {
            "name": "3 others",
            "count": 3
           }
          ]
         }
        },
        {
         "name": "scrape_id",
         "dtype": "int64",
         "stats": {
          "unique_count": 1,
          "nan_count": 0,
          "min": "20211225071122",
          "max": "20211225071122",
          "histogram": [
           {
            "bin_start": 20211225071121.5,
            "bin_end": 20211225071121.6,
            "count": 0
           },
           {
            "bin_start": 20211225071121.6,
            "bin_end": 20211225071121.7,
            "count": 0
           },
           {
            "bin_start": 20211225071121.7,
            "bin_end": 20211225071121.8,
            "count": 0
           },
           {
            "bin_start": 20211225071121.8,
            "bin_end": 20211225071121.9,
            "count": 0
           },
           {
            "bin_start": 20211225071121.9,
            "bin_end": 20211225071122,
            "count": 0
           },
           {
            "bin_start": 20211225071122,
            "bin_end": 20211225071122.1,
            "count": 5
           },
           {
            "bin_start": 20211225071122.1,
            "bin_end": 20211225071122.2,
            "count": 0
           },
           {
            "bin_start": 20211225071122.2,
            "bin_end": 20211225071122.3,
            "count": 0
           },
           {
            "bin_start": 20211225071122.3,
            "bin_end": 20211225071122.4,
            "count": 0
           },
           {
            "bin_start": 20211225071122.4,
            "bin_end": 20211225071122.5,
            "count": 0
           }
          ]
         }
        },
        {
         "name": "last_scraped",
         "dtype": "object",
         "stats": {
          "unique_count": 1,
          "nan_count": 0,
          "categories": [
           {
            "name": "2021-12-25",
            "count": 5
           }
          ]
         }
        },
        {
         "name": "name",
         "dtype": "object",
         "stats": {
          "unique_count": 5,
          "nan_count": 0,
          "categories": [
           {
            "name": "Apartment Providencia, Santiago",
            "count": 1
           },
           {
            "name": "Share my Flat in Providencia",
            "count": 1
           },
           {
            "name": "3 others",
            "count": 3
           }
          ]
         }
        },
        {
         "name": "description",
         "dtype": "object",
         "stats": {
          "unique_count": 5,
          "nan_count": 0,
          "categories": [
           {
            "name": "Located in the heart of Providencia, near by restaurants and bars, parks and cultural centers, near commercial area, supermarkets, banks and health centers. <br />Currently due to COVID19, we are taking additional measures in cleaning the apartment and disinfecting it to ensure your stay, and spacing the reserves for a minimum of 4 days to ensure the ventilation of the place.<br /><br /><b>The space</b><br />Location:<br /><br />Manuel Montt Av. close to the corner of Nueva Providencia Av. Located in the heart of Providencia, near by restaurants and bars, parks and cultural centers, near commercial area, supermarkets, banks and health centers.  Two small blocks to subway station Manuel Montt and small supermarket \"Lider\" (by Walmart).<br /><br />Apartment:<br />On 6th floor, 1 carpeted room, 1 bathroom with tub, kitchenette, terrace. Laminated floor. South-west orientation.<br /><br />Equipment:<br />Air conditioned, dinnerware for 4, two-burner stove, electric oven and microwave, frid",
            "count": 1
           },
           {
            "name": "<b>The space</b><br />Departamento en el barrio Providencia. Completamente equipado,  Internet, WIFI, TV Cable, ciclovias,  transporte publico en Los Leones,. También tenemos cerca Supermercados, Centros Comerciales como el  Costaneracenter, Mall Panoramico, Grandes Tiendas como Falabella, Almacenes Paris,  Universidades, Parques, como el Bustamante, Los Leones para los deportes y paseos al aire libre, además de restaurantes de las más diferentes gastronomías, para todos los paladares y exigencias!. También podemos encontrar Bares para los más diferentes gustos, Discotecas, Grandes Cines, Exposiciones Culturales variadas y a 20 minutos del Aeropuerto Internacional A.M.Benitez. El barrio es uno de los mejores de la ciudad con gran diversidad de turistas, empresarios y residentes. Espero que su estadia sea inolvidable, estaré  esperando su contacto.<br /><br />Nice apartment in the Providencia neighborhood. Fully equipped,  Intenet, WIFI, Cable TV, located near all the movement of Provid",
            "count": 1
           },
           {
            "name": "3 others",
            "count": 3
           }
          ]
         }
        },
        {
         "name": "neighborhood_overview",
         "dtype": "object",
         "stats": {
          "unique_count": 3,
          "nan_count": 2,
          "categories": [
           {
            "name": "Quiet and typical beatiful neighborghood, a lot of delivery restaurants and typical attractions are close by walking. Also a lot of grosery stores.",
            "count": 1
           },
           {
            "name": "2 others",
            "count": 2
           },
           {
            "name": "Missing",
            "count": 2
           }
          ]
         }
        },
        {
         "name": "picture_url",
         "dtype": "object",
         "stats": {
          "unique_count": 5,
          "nan_count": 0,
          "categories": [
           {
            "name": "https://a0.muscache.com/pictures/dedd0a9a-c58a-485a-b58d-2e22b96bf1c4.jpg",
            "count": 1
           },
           {
            "name": "https://a0.muscache.com/pictures/3740612/b1850389_original.jpg",
            "count": 1
           },
           {
            "name": "3 others",
            "count": 3
           }
          ]
         }
        },
        {
         "name": "host_id",
         "dtype": "int64",
         "stats": {
          "unique_count": 5,
          "nan_count": 0,
          "min": "132845",
          "max": "261079",
          "histogram": [
           {
            "bin_start": 132845,
            "bin_end": 145668.4,
            "count": 1
           },
           {
            "bin_start": 145668.4,
            "bin_end": 158491.8,
            "count": 0
           },
           {
            "bin_start": 158491.8,
            "bin_end": 171315.2,
            "count": 0
           },
           {
            "bin_start": 171315.2,
            "bin_end": 184138.6,
            "count": 0
           },
           {
            "bin_start": 184138.6,
            "bin_end": 196962,
            "count": 0
           },
           {
            "bin_start": 196962,
            "bin_end": 209785.4,
            "count": 0
           },
           {
            "bin_start": 209785.4,
            "bin_end": 222608.8,
            "count": 0
           },
           {
            "bin_start": 222608.8,
            "bin_end": 235432.2,
            "count": 1
           },
           {
            "bin_start": 235432.2,
            "bin_end": 248255.59999999998,
            "count": 1
           },
           {
            "bin_start": 248255.59999999998,
            "bin_end": 261079,
            "count": 2
           }
          ]
         }
        },
        {
         "name": "host_url",
         "dtype": "object",
         "stats": {
          "unique_count": 5,
          "nan_count": 0,
          "categories": [
           {
            "name": "https://www.airbnb.com/users/show/132845",
            "count": 1
           },
           {
            "name": "https://www.airbnb.com/users/show/224592",
            "count": 1
           },
           {
            "name": "3 others",
            "count": 3
           }
          ]
         }
        },
        {
         "name": "host_name",
         "dtype": "object",
         "stats": {
          "unique_count": 5,
          "nan_count": 0,
          "categories": [
           {
            "name": "Pamela",
            "count": 1
           },
           {
            "name": "Maria",
            "count": 1
           },
           {
            "name": "3 others",
            "count": 3
           }
          ]
         }
        },
        {
         "name": "host_since",
         "dtype": "object",
         "stats": {
          "unique_count": 5,
          "nan_count": 0,
          "categories": [
           {
            "name": "2010-05-26",
            "count": 1
           },
           {
            "name": "2010-09-05",
            "count": 1
           },
           {
            "name": "3 others",
            "count": 3
           }
          ]
         }
        },
        {
         "name": "host_location",
         "dtype": "object",
         "stats": {
          "unique_count": 4,
          "nan_count": 0,
          "categories": [
           {
            "name": "Providencia, Santiago Metropolitan Region, Chile",
            "count": 2
           },
           {
            "name": "Santiago, Santiago Metropolitan Region, Chile",
            "count": 1
           },
           {
            "name": "2 others",
            "count": 2
           }
          ]
         }
        },
        {
         "name": "host_about",
         "dtype": "object",
         "stats": {
          "unique_count": 5,
          "nan_count": 0,
          "categories": [
           {
            "name": "En nuestra familia, ofrecemos éste cómodo departamento full equipo para que puedas trabajar y descansar cómodamente. Cuenta con una vista maravillosa al barrio de Providencia. \nEl lugar, está muy bien ubicado y cuenta con excelente acceso a transporte público, servicios básicos y comercio.  El barrio es muy tranquilo, y la calle de servicio impide el ruido. \nActualmente debido a COVID19, estamos tomando medidas adicionales en la limpieza del departamento y su desinfección para asegurar tu estadía. \n",
            "count": 1
           },
           {
            "name": "Disfruto viajando, sobre todo a lugares donde  hay playas de agua tibia, me gusta estar en contacto con la gente de otros paises,  la naturaleza, la fotografia.\r\nHacer  yoga y salir en bicicleta.",
            "count": 1
           },
           {
            "name": "3 others",
            "count": 3
           }
          ]
         }
        },
        {
         "name": "host_response_time",
         "dtype": "object",
         "stats": {
          "unique_count": 3,
          "nan_count": 1,
          "categories": [
           {
            "name": "within a few hours",
            "count": 2
           },
           {
            "name": "2 others",
            "count": 2
           },
           {
            "name": "Missing",
            "count": 1
           }
          ]
         }
        },
        {
         "name": "host_response_rate",
         "dtype": "object",
         "stats": {
          "unique_count": 3,
          "nan_count": 1,
          "categories": [
           {
            "name": "100%",
            "count": 2
           },
           {
            "name": "2 others",
            "count": 2
           },
           {
            "name": "Missing",
            "count": 1
           }
          ]
         }
        },
        {
         "name": "host_acceptance_rate",
         "dtype": "object",
         "stats": {
          "unique_count": 4,
          "nan_count": 1,
          "categories": [
           {
            "name": "100%",
            "count": 1
           },
           {
            "name": "3 others",
            "count": 3
           },
           {
            "name": "Missing",
            "count": 1
           }
          ]
         }
        },
        {
         "name": "host_is_superhost",
         "dtype": "object",
         "stats": {
          "unique_count": 1,
          "nan_count": 0,
          "categories": [
           {
            "name": "f",
            "count": 5
           }
          ]
         }
        },
        {
         "name": "host_thumbnail_url",
         "dtype": "object",
         "stats": {
          "unique_count": 5,
          "nan_count": 0,
          "categories": [
           {
            "name": "https://a0.muscache.com/im/pictures/user/6fd1e721-9c56-4c2a-929e-0d766ce56b4b.jpg?aki_policy=profile_small",
            "count": 1
           },
           {
            "name": "https://a0.muscache.com/im/pictures/user/bd1a8f9f-17ee-4fdd-bf7b-6d190405c980.jpg?aki_policy=profile_small",
            "count": 1
           },
           {
            "name": "3 others",
            "count": 3
           }
          ]
         }
        },
        {
         "name": "host_picture_url",
         "dtype": "object",
         "stats": {
          "unique_count": 5,
          "nan_count": 0,
          "categories": [
           {
            "name": "https://a0.muscache.com/im/pictures/user/6fd1e721-9c56-4c2a-929e-0d766ce56b4b.jpg?aki_policy=profile_x_medium",
            "count": 1
           },
           {
            "name": "https://a0.muscache.com/im/pictures/user/bd1a8f9f-17ee-4fdd-bf7b-6d190405c980.jpg?aki_policy=profile_x_medium",
            "count": 1
           },
           {
            "name": "3 others",
            "count": 3
           }
          ]
         }
        },
        {
         "name": "host_neighbourhood",
         "dtype": "object",
         "stats": {
          "unique_count": 0,
          "nan_count": 5,
          "categories": [
           {
            "name": "Missing",
            "count": 5
           }
          ]
         }
        },
        {
         "name": "host_listings_count",
         "dtype": "float64",
         "stats": {
          "unique_count": 3,
          "nan_count": 0,
          "min": "1.0",
          "max": "4.0",
          "histogram": [
           {
            "bin_start": 1,
            "bin_end": 1.3,
            "count": 1
           },
           {
            "bin_start": 1.3,
            "bin_end": 1.6,
            "count": 0
           },
           {
            "bin_start": 1.6,
            "bin_end": 1.9,
            "count": 0
           },
           {
            "bin_start": 1.9,
            "bin_end": 2.2,
            "count": 0
           },
           {
            "bin_start": 2.2,
            "bin_end": 2.5,
            "count": 0
           },
           {
            "bin_start": 2.5,
            "bin_end": 2.8,
            "count": 0
           },
           {
            "bin_start": 2.8,
            "bin_end": 3.1,
            "count": 3
           },
           {
            "bin_start": 3.1,
            "bin_end": 3.4,
            "count": 0
           },
           {
            "bin_start": 3.4,
            "bin_end": 3.6999999999999997,
            "count": 0
           },
           {
            "bin_start": 3.6999999999999997,
            "bin_end": 4,
            "count": 1
           }
          ]
         }
        },
        {
         "name": "host_total_listings_count",
         "dtype": "float64",
         "stats": {
          "unique_count": 3,
          "nan_count": 0,
          "min": "1.0",
          "max": "4.0",
          "histogram": [
           {
            "bin_start": 1,
            "bin_end": 1.3,
            "count": 1
           },
           {
            "bin_start": 1.3,
            "bin_end": 1.6,
            "count": 0
           },
           {
            "bin_start": 1.6,
            "bin_end": 1.9,
            "count": 0
           },
           {
            "bin_start": 1.9,
            "bin_end": 2.2,
            "count": 0
           },
           {
            "bin_start": 2.2,
            "bin_end": 2.5,
            "count": 0
           },
           {
            "bin_start": 2.5,
            "bin_end": 2.8,
            "count": 0
           },
           {
            "bin_start": 2.8,
            "bin_end": 3.1,
            "count": 3
           },
           {
            "bin_start": 3.1,
            "bin_end": 3.4,
            "count": 0
           },
           {
            "bin_start": 3.4,
            "bin_end": 3.6999999999999997,
            "count": 0
           },
           {
            "bin_start": 3.6999999999999997,
            "bin_end": 4,
            "count": 1
           }
          ]
         }
        },
        {
         "name": "host_verifications",
         "dtype": "object",
         "stats": {
          "unique_count": 5,
          "nan_count": 0,
          "categories": [
           {
            "name": "['email', 'phone', 'facebook', 'reviews', 'jumio', 'government_id', 'identity_manual']",
            "count": 1
           },
           {
            "name": "['email', 'phone', 'facebook', 'jumio', 'government_id']",
            "count": 1
           },
           {
            "name": "3 others",
            "count": 3
           }
          ]
         }
        },
        {
         "name": "host_has_profile_pic",
         "dtype": "object",
         "stats": {
          "unique_count": 1,
          "nan_count": 0,
          "categories": [
           {
            "name": "t",
            "count": 5
           }
          ]
         }
        },
        {
         "name": "host_identity_verified",
         "dtype": "object",
         "stats": {
          "unique_count": 1,
          "nan_count": 0,
          "categories": [
           {
            "name": "t",
            "count": 5
           }
          ]
         }
        },
        {
         "name": "neighbourhood",
         "dtype": "object",
         "stats": {
          "unique_count": 2,
          "nan_count": 2,
          "categories": [
           {
            "name": "Santiago, Región Metropolitana, Chile",
            "count": 2
           },
           {
            "name": "Providencia, Región Metropolitana, Chile",
            "count": 1
           },
           {
            "name": "Missing",
            "count": 2
           }
          ]
         }
        },
        {
         "name": "neighbourhood_cleansed",
         "dtype": "object",
         "stats": {
          "unique_count": 2,
          "nan_count": 0,
          "categories": [
           {
            "name": "Providencia",
            "count": 4
           },
           {
            "name": "Lo Barnechea",
            "count": 1
           }
          ]
         }
        },
        {
         "name": "neighbourhood_group_cleansed",
         "dtype": "float64",
         "stats": {
          "unique_count": 0,
          "nan_count": 5,
          "min": null,
          "max": null,
          "histogram": [
           {
            "bin_start": 0,
            "bin_end": 0.1,
            "count": 0
           },
           {
            "bin_start": 0.1,
            "bin_end": 0.2,
            "count": 0
           },
           {
            "bin_start": 0.2,
            "bin_end": 0.30000000000000004,
            "count": 0
           },
           {
            "bin_start": 0.30000000000000004,
            "bin_end": 0.4,
            "count": 0
           },
           {
            "bin_start": 0.4,
            "bin_end": 0.5,
            "count": 0
           },
           {
            "bin_start": 0.5,
            "bin_end": 0.6000000000000001,
            "count": 0
           },
           {
            "bin_start": 0.6000000000000001,
            "bin_end": 0.7000000000000001,
            "count": 0
           },
           {
            "bin_start": 0.7000000000000001,
            "bin_end": 0.8,
            "count": 0
           },
           {
            "bin_start": 0.8,
            "bin_end": 0.9,
            "count": 0
           },
           {
            "bin_start": 0.9,
            "bin_end": 1,
            "count": 0
           }
          ]
         }
        },
        {
         "name": "latitude",
         "dtype": "float64",
         "stats": {
          "unique_count": 5,
          "nan_count": 0,
          "min": "-33.43266",
          "max": "-33.34344",
          "histogram": [
           {
            "bin_start": -33.43266,
            "bin_end": -33.423738,
            "count": 3
           },
           {
            "bin_start": -33.423738,
            "bin_end": -33.414816,
            "count": 1
           },
           {
            "bin_start": -33.414816,
            "bin_end": -33.405893999999996,
            "count": 0
           },
           {
            "bin_start": -33.405893999999996,
            "bin_end": -33.396972,
            "count": 0
           },
           {
            "bin_start": -33.396972,
            "bin_end": -33.38805,
            "count": 0
           },
           {
            "bin_start": -33.38805,
            "bin_end": -33.379128,
            "count": 0
           },
           {
            "bin_start": -33.379128,
            "bin_end": -33.370206,
            "count": 0
           },
           {
            "bin_start": -33.370206,
            "bin_end": -33.361284,
            "count": 0
           },
           {
            "bin_start": -33.361284,
            "bin_end": -33.352362,
            "count": 0
           },
           {
            "bin_start": -33.352362,
            "bin_end": -33.34344,
            "count": 1
           }
          ]
         }
        },
        {
         "name": "longitude",
         "dtype": "float64",
         "stats": {
          "unique_count": 5,
          "nan_count": 0,
          "min": "-70.6188",
          "max": "-70.29432",
          "histogram": [
           {
            "bin_start": -70.6188,
            "bin_end": -70.58635199999999,
            "count": 4
           },
           {
            "bin_start": -70.58635199999999,
            "bin_end": -70.55390399999999,
            "count": 0
           },
           {
            "bin_start": -70.55390399999999,
            "bin_end": -70.521456,
            "count": 0
           },
           {
            "bin_start": -70.521456,
            "bin_end": -70.489008,
            "count": 0
           },
           {
            "bin_start": -70.489008,
            "bin_end": -70.45656,
            "count": 0
           },
           {
            "bin_start": -70.45656,
            "bin_end": -70.424112,
            "count": 0
           },
           {
            "bin_start": -70.424112,
            "bin_end": -70.39166399999999,
            "count": 0
           },
           {
            "bin_start": -70.39166399999999,
            "bin_end": -70.359216,
            "count": 0
           },
           {
            "bin_start": -70.359216,
            "bin_end": -70.326768,
            "count": 0
           },
           {
            "bin_start": -70.326768,
            "bin_end": -70.29432,
            "count": 1
           }
          ]
         }
        },
        {
         "name": "property_type",
         "dtype": "object",
         "stats": {
          "unique_count": 2,
          "nan_count": 0,
          "categories": [
           {
            "name": "Entire rental unit",
            "count": 4
           },
           {
            "name": "Private room in rental unit",
            "count": 1
           }
          ]
         }
        },
        {
         "name": "room_type",
         "dtype": "object",
         "stats": {
          "unique_count": 2,
          "nan_count": 0,
          "categories": [
           {
            "name": "Entire home/apt",
            "count": 4
           },
           {
            "name": "Private room",
            "count": 1
           }
          ]
         }
        },
        {
         "name": "accommodates",
         "dtype": "int64",
         "stats": {
          "unique_count": 5,
          "nan_count": 0,
          "min": "1",
          "max": "8",
          "histogram": [
           {
            "bin_start": 1,
            "bin_end": 1.7,
            "count": 1
           },
           {
            "bin_start": 1.7,
            "bin_end": 2.4,
            "count": 1
           },
           {
            "bin_start": 2.4,
            "bin_end": 3.0999999999999996,
            "count": 0
           },
           {
            "bin_start": 3.0999999999999996,
            "bin_end": 3.8,
            "count": 0
           },
           {
            "bin_start": 3.8,
            "bin_end": 4.5,
            "count": 1
           },
           {
            "bin_start": 4.5,
            "bin_end": 5.199999999999999,
            "count": 1
           },
           {
            "bin_start": 5.199999999999999,
            "bin_end": 5.8999999999999995,
            "count": 0
           },
           {
            "bin_start": 5.8999999999999995,
            "bin_end": 6.6,
            "count": 0
           },
           {
            "bin_start": 6.6,
            "bin_end": 7.3,
            "count": 0
           },
           {
            "bin_start": 7.3,
            "bin_end": 8,
            "count": 1
           }
          ]
         }
        },
        {
         "name": "bathrooms",
         "dtype": "float64",
         "stats": {
          "unique_count": 0,
          "nan_count": 5,
          "min": null,
          "max": null,
          "histogram": [
           {
            "bin_start": 0,
            "bin_end": 0.1,
            "count": 0
           },
           {
            "bin_start": 0.1,
            "bin_end": 0.2,
            "count": 0
           },
           {
            "bin_start": 0.2,
            "bin_end": 0.30000000000000004,
            "count": 0
           },
           {
            "bin_start": 0.30000000000000004,
            "bin_end": 0.4,
            "count": 0
           },
           {
            "bin_start": 0.4,
            "bin_end": 0.5,
            "count": 0
           },
           {
            "bin_start": 0.5,
            "bin_end": 0.6000000000000001,
            "count": 0
           },
           {
            "bin_start": 0.6000000000000001,
            "bin_end": 0.7000000000000001,
            "count": 0
           },
           {
            "bin_start": 0.7000000000000001,
            "bin_end": 0.8,
            "count": 0
           },
           {
            "bin_start": 0.8,
            "bin_end": 0.9,
            "count": 0
           },
           {
            "bin_start": 0.9,
            "bin_end": 1,
            "count": 0
           }
          ]
         }
        },
        {
         "name": "bathrooms_text",
         "dtype": "object",
         "stats": {
          "unique_count": 2,
          "nan_count": 1,
          "categories": [
           {
            "name": "1 bath",
            "count": 2
           },
           {
            "name": "2 baths",
            "count": 2
           },
           {
            "name": "Missing",
            "count": 1
           }
          ]
         }
        },
        {
         "name": "bedrooms",
         "dtype": "float64",
         "stats": {
          "unique_count": 2,
          "nan_count": 0,
          "min": "1.0",
          "max": "2.0",
          "histogram": [
           {
            "bin_start": 1,
            "bin_end": 1.1,
            "count": 3
           },
           {
            "bin_start": 1.1,
            "bin_end": 1.2,
            "count": 0
           },
           {
            "bin_start": 1.2,
            "bin_end": 1.3,
            "count": 0
           },
           {
            "bin_start": 1.3,
            "bin_end": 1.4,
            "count": 0
           },
           {
            "bin_start": 1.4,
            "bin_end": 1.5,
            "count": 0
           },
           {
            "bin_start": 1.5,
            "bin_end": 1.6,
            "count": 0
           },
           {
            "bin_start": 1.6,
            "bin_end": 1.7000000000000002,
            "count": 0
           },
           {
            "bin_start": 1.7000000000000002,
            "bin_end": 1.8,
            "count": 0
           },
           {
            "bin_start": 1.8,
            "bin_end": 1.9,
            "count": 0
           },
           {
            "bin_start": 1.9,
            "bin_end": 2,
            "count": 2
           }
          ]
         }
        },
        {
         "name": "beds",
         "dtype": "float64",
         "stats": {
          "unique_count": 4,
          "nan_count": 0,
          "min": "1.0",
          "max": "8.0",
          "histogram": [
           {
            "bin_start": 1,
            "bin_end": 1.7,
            "count": 2
           },
           {
            "bin_start": 1.7,
            "bin_end": 2.4,
            "count": 1
           },
           {
            "bin_start": 2.4,
            "bin_end": 3.0999999999999996,
            "count": 0
           },
           {
            "bin_start": 3.0999999999999996,
            "bin_end": 3.8,
            "count": 0
           },
           {
            "bin_start": 3.8,
            "bin_end": 4.5,
            "count": 1
           },
           {
            "bin_start": 4.5,
            "bin_end": 5.199999999999999,
            "count": 0
           },
           {
            "bin_start": 5.199999999999999,
            "bin_end": 5.8999999999999995,
            "count": 0
           },
           {
            "bin_start": 5.8999999999999995,
            "bin_end": 6.6,
            "count": 0
           },
           {
            "bin_start": 6.6,
            "bin_end": 7.3,
            "count": 0
           },
           {
            "bin_start": 7.3,
            "bin_end": 8,
            "count": 1
           }
          ]
         }
        },
        {
         "name": "amenities",
         "dtype": "object",
         "stats": {
          "unique_count": 5,
          "nan_count": 0,
          "categories": [
           {
            "name": "[\"Cleaning products\", \"Hangers\", \"Private entrance\", \"Bikes\", \"Freezer\", \"Sound system with Bluetooth and aux\", \"Cooking basics\", \"Toaster\", \"Baking sheet\", \"Host greets you\", \"Dryer\", \"42\\\" HDTV with Netflix, standard cable\", \"Room-darkening shades\", \"Hot water\", \"Heating\", \"Essentials\", \"Wifi\", \"Kitchen\", \"Free street parking\", \"Oven\", \"Smoke alarm\", \"Hot water kettle\", \"Long term stays allowed\", \"Security cameras on property\", \"Bed linens\", \"Paid parking garage on premises\", \"Shower gel\", \"Stove\", \"Shared pool\", \"Bathtub\", \"Clothing storage: closet\", \"Ethernet connection\", \"Mini fridge\", \"Lockbox\", \"Outdoor furniture\", \"Coffee maker\", \"Refrigerator\", \"Free parking on premises \\u2013 4 spaces\", \"Wine glasses\", \"Air conditioning\", \"Carbon monoxide alarm\", \"Dishes and silverware\", \"Hair dryer\", \"Iron\", \"Gym\", \"Private patio or balcony\", \"Laundromat nearby\", \"Microwave\", \"Extra pillows and blankets\", \"Shampoo\", \"Paid washer \\u2013 In building\", \"Paid parking garage off premises\", \"Cable TV\", \"Dedicated workspace\"]",
            "count": 1
           },
           {
            "name": "[\"Long term stays allowed\"]",
            "count": 1
           },
           {
            "name": "3 others",
            "count": 3
           }
          ]
         }
        },
        {
         "name": "price",
         "dtype": "object",
         "stats": {
          "unique_count": 5,
          "nan_count": 0,
          "categories": [
           {
            "name": "$260,000.00",
            "count": 1
           },
           {
            "name": "$45,652.00",
            "count": 1
           },
           {
            "name": "3 others",
            "count": 3
           }
          ]
         }
        },
        {
         "name": "minimum_nights",
         "dtype": "int64",
         "stats": {
          "unique_count": 4,
          "nan_count": 0,
          "min": "1",
          "max": "180",
          "histogram": [
           {
            "bin_start": 1,
            "bin_end": 18.9,
            "count": 4
           },
           {
            "bin_start": 18.9,
            "bin_end": 36.8,
            "count": 0
           },
           {
            "bin_start": 36.8,
            "bin_end": 54.699999999999996,
            "count": 0
           },
           {
            "bin_start": 54.699999999999996,
            "bin_end": 72.6,
            "count": 0
           },
           {
            "bin_start": 72.6,
            "bin_end": 90.5,
            "count": 0
           },
           {
            "bin_start": 90.5,
            "bin_end": 108.39999999999999,
            "count": 0
           },
           {
            "bin_start": 108.39999999999999,
            "bin_end": 126.29999999999998,
            "count": 0
           },
           {
            "bin_start": 126.29999999999998,
            "bin_end": 144.2,
            "count": 0
           },
           {
            "bin_start": 144.2,
            "bin_end": 162.1,
            "count": 0
           },
           {
            "bin_start": 162.1,
            "bin_end": 180,
            "count": 1
           }
          ]
         }
        },
        {
         "name": "maximum_nights",
         "dtype": "int64",
         "stats": {
          "unique_count": 3,
          "nan_count": 0,
          "min": "730",
          "max": "1825",
          "histogram": [
           {
            "bin_start": 730,
            "bin_end": 839.5,
            "count": 3
           },
           {
            "bin_start": 839.5,
            "bin_end": 949,
            "count": 0
           },
           {
            "bin_start": 949,
            "bin_end": 1058.5,
            "count": 0
           },
           {
            "bin_start": 1058.5,
            "bin_end": 1168,
            "count": 1
           },
           {
            "bin_start": 1168,
            "bin_end": 1277.5,
            "count": 0
           },
           {
            "bin_start": 1277.5,
            "bin_end": 1387,
            "count": 0
           },
           {
            "bin_start": 1387,
            "bin_end": 1496.5,
            "count": 0
           },
           {
            "bin_start": 1496.5,
            "bin_end": 1606,
            "count": 0
           },
           {
            "bin_start": 1606,
            "bin_end": 1715.5,
            "count": 0
           },
           {
            "bin_start": 1715.5,
            "bin_end": 1825,
            "count": 1
           }
          ]
         }
        },
        {
         "name": "minimum_minimum_nights",
         "dtype": "int64",
         "stats": {
          "unique_count": 4,
          "nan_count": 0,
          "min": "1",
          "max": "180",
          "histogram": [
           {
            "bin_start": 1,
            "bin_end": 18.9,
            "count": 4
           },
           {
            "bin_start": 18.9,
            "bin_end": 36.8,
            "count": 0
           },
           {
            "bin_start": 36.8,
            "bin_end": 54.699999999999996,
            "count": 0
           },
           {
            "bin_start": 54.699999999999996,
            "bin_end": 72.6,
            "count": 0
           },
           {
            "bin_start": 72.6,
            "bin_end": 90.5,
            "count": 0
           },
           {
            "bin_start": 90.5,
            "bin_end": 108.39999999999999,
            "count": 0
           },
           {
            "bin_start": 108.39999999999999,
            "bin_end": 126.29999999999998,
            "count": 0
           },
           {
            "bin_start": 126.29999999999998,
            "bin_end": 144.2,
            "count": 0
           },
           {
            "bin_start": 144.2,
            "bin_end": 162.1,
            "count": 0
           },
           {
            "bin_start": 162.1,
            "bin_end": 180,
            "count": 1
           }
          ]
         }
        },
        {
         "name": "maximum_minimum_nights",
         "dtype": "int64",
         "stats": {
          "unique_count": 4,
          "nan_count": 0,
          "min": "1",
          "max": "180",
          "histogram": [
           {
            "bin_start": 1,
            "bin_end": 18.9,
            "count": 4
           },
           {
            "bin_start": 18.9,
            "bin_end": 36.8,
            "count": 0
           },
           {
            "bin_start": 36.8,
            "bin_end": 54.699999999999996,
            "count": 0
           },
           {
            "bin_start": 54.699999999999996,
            "bin_end": 72.6,
            "count": 0
           },
           {
            "bin_start": 72.6,
            "bin_end": 90.5,
            "count": 0
           },
           {
            "bin_start": 90.5,
            "bin_end": 108.39999999999999,
            "count": 0
           },
           {
            "bin_start": 108.39999999999999,
            "bin_end": 126.29999999999998,
            "count": 0
           },
           {
            "bin_start": 126.29999999999998,
            "bin_end": 144.2,
            "count": 0
           },
           {
            "bin_start": 144.2,
            "bin_end": 162.1,
            "count": 0
           },
           {
            "bin_start": 162.1,
            "bin_end": 180,
            "count": 1
           }
          ]
         }
        },
        {
         "name": "minimum_maximum_nights",
         "dtype": "int64",
         "stats": {
          "unique_count": 2,
          "nan_count": 0,
          "min": "730",
          "max": "1125",
          "histogram": [
           {
            "bin_start": 730,
            "bin_end": 769.5,
            "count": 3
           },
           {
            "bin_start": 769.5,
            "bin_end": 809,
            "count": 0
           },
           {
            "bin_start": 809,
            "bin_end": 848.5,
            "count": 0
           },
           {
            "bin_start": 848.5,
            "bin_end": 888,
            "count": 0
           },
           {
            "bin_start": 888,
            "bin_end": 927.5,
            "count": 0
           },
           {
            "bin_start": 927.5,
            "bin_end": 967,
            "count": 0
           },
           {
            "bin_start": 967,
            "bin_end": 1006.5,
            "count": 0
           },
           {
            "bin_start": 1006.5,
            "bin_end": 1046,
            "count": 0
           },
           {
            "bin_start": 1046,
            "bin_end": 1085.5,
            "count": 0
           },
           {
            "bin_start": 1085.5,
            "bin_end": 1125,
            "count": 2
           }
          ]
         }
        },
        {
         "name": "maximum_maximum_nights",
         "dtype": "int64",
         "stats": {
          "unique_count": 2,
          "nan_count": 0,
          "min": "730",
          "max": "1125",
          "histogram": [
           {
            "bin_start": 730,
            "bin_end": 769.5,
            "count": 3
           },
           {
            "bin_start": 769.5,
            "bin_end": 809,
            "count": 0
           },
           {
            "bin_start": 809,
            "bin_end": 848.5,
            "count": 0
           },
           {
            "bin_start": 848.5,
            "bin_end": 888,
            "count": 0
           },
           {
            "bin_start": 888,
            "bin_end": 927.5,
            "count": 0
           },
           {
            "bin_start": 927.5,
            "bin_end": 967,
            "count": 0
           },
           {
            "bin_start": 967,
            "bin_end": 1006.5,
            "count": 0
           },
           {
            "bin_start": 1006.5,
            "bin_end": 1046,
            "count": 0
           },
           {
            "bin_start": 1046,
            "bin_end": 1085.5,
            "count": 0
           },
           {
            "bin_start": 1085.5,
            "bin_end": 1125,
            "count": 2
           }
          ]
         }
        },
        {
         "name": "minimum_nights_avg_ntm",
         "dtype": "float64",
         "stats": {
          "unique_count": 4,
          "nan_count": 0,
          "min": "1.0",
          "max": "180.0",
          "histogram": [
           {
            "bin_start": 1,
            "bin_end": 18.9,
            "count": 4
           },
           {
            "bin_start": 18.9,
            "bin_end": 36.8,
            "count": 0
           },
           {
            "bin_start": 36.8,
            "bin_end": 54.699999999999996,
            "count": 0
           },
           {
            "bin_start": 54.699999999999996,
            "bin_end": 72.6,
            "count": 0
           },
           {
            "bin_start": 72.6,
            "bin_end": 90.5,
            "count": 0
           },
           {
            "bin_start": 90.5,
            "bin_end": 108.39999999999999,
            "count": 0
           },
           {
            "bin_start": 108.39999999999999,
            "bin_end": 126.29999999999998,
            "count": 0
           },
           {
            "bin_start": 126.29999999999998,
            "bin_end": 144.2,
            "count": 0
           },
           {
            "bin_start": 144.2,
            "bin_end": 162.1,
            "count": 0
           },
           {
            "bin_start": 162.1,
            "bin_end": 180,
            "count": 1
           }
          ]
         }
        },
        {
         "name": "maximum_nights_avg_ntm",
         "dtype": "float64",
         "stats": {
          "unique_count": 2,
          "nan_count": 0,
          "min": "730.0",
          "max": "1125.0",
          "histogram": [
           {
            "bin_start": 730,
            "bin_end": 769.5,
            "count": 3
           },
           {
            "bin_start": 769.5,
            "bin_end": 809,
            "count": 0
           },
           {
            "bin_start": 809,
            "bin_end": 848.5,
            "count": 0
           },
           {
            "bin_start": 848.5,
            "bin_end": 888,
            "count": 0
           },
           {
            "bin_start": 888,
            "bin_end": 927.5,
            "count": 0
           },
           {
            "bin_start": 927.5,
            "bin_end": 967,
            "count": 0
           },
           {
            "bin_start": 967,
            "bin_end": 1006.5,
            "count": 0
           },
           {
            "bin_start": 1006.5,
            "bin_end": 1046,
            "count": 0
           },
           {
            "bin_start": 1046,
            "bin_end": 1085.5,
            "count": 0
           },
           {
            "bin_start": 1085.5,
            "bin_end": 1125,
            "count": 2
           }
          ]
         }
        },
        {
         "name": "calendar_updated",
         "dtype": "float64",
         "stats": {
          "unique_count": 0,
          "nan_count": 5,
          "min": null,
          "max": null,
          "histogram": [
           {
            "bin_start": 0,
            "bin_end": 0.1,
            "count": 0
           },
           {
            "bin_start": 0.1,
            "bin_end": 0.2,
            "count": 0
           },
           {
            "bin_start": 0.2,
            "bin_end": 0.30000000000000004,
            "count": 0
           },
           {
            "bin_start": 0.30000000000000004,
            "bin_end": 0.4,
            "count": 0
           },
           {
            "bin_start": 0.4,
            "bin_end": 0.5,
            "count": 0
           },
           {
            "bin_start": 0.5,
            "bin_end": 0.6000000000000001,
            "count": 0
           },
           {
            "bin_start": 0.6000000000000001,
            "bin_end": 0.7000000000000001,
            "count": 0
           },
           {
            "bin_start": 0.7000000000000001,
            "bin_end": 0.8,
            "count": 0
           },
           {
            "bin_start": 0.8,
            "bin_end": 0.9,
            "count": 0
           },
           {
            "bin_start": 0.9,
            "bin_end": 1,
            "count": 0
           }
          ]
         }
        },
        {
         "name": "has_availability",
         "dtype": "object",
         "stats": {
          "unique_count": 1,
          "nan_count": 0,
          "categories": [
           {
            "name": "t",
            "count": 5
           }
          ]
         }
        },
        {
         "name": "availability_30",
         "dtype": "int64",
         "stats": {
          "unique_count": 4,
          "nan_count": 0,
          "min": "0",
          "max": "30",
          "histogram": [
           {
            "bin_start": 0,
            "bin_end": 3,
            "count": 1
           },
           {
            "bin_start": 3,
            "bin_end": 6,
            "count": 0
           },
           {
            "bin_start": 6,
            "bin_end": 9,
            "count": 0
           },
           {
            "bin_start": 9,
            "bin_end": 12,
            "count": 0
           },
           {
            "bin_start": 12,
            "bin_end": 15,
            "count": 0
           },
           {
            "bin_start": 15,
            "bin_end": 18,
            "count": 0
           },
           {
            "bin_start": 18,
            "bin_end": 21,
            "count": 0
           },
           {
            "bin_start": 21,
            "bin_end": 24,
            "count": 0
           },
           {
            "bin_start": 24,
            "bin_end": 27,
            "count": 1
           },
           {
            "bin_start": 27,
            "bin_end": 30,
            "count": 3
           }
          ]
         }
        },
        {
         "name": "availability_60",
         "dtype": "int64",
         "stats": {
          "unique_count": 4,
          "nan_count": 0,
          "min": "17",
          "max": "60",
          "histogram": [
           {
            "bin_start": 17,
            "bin_end": 21.3,
            "count": 1
           },
           {
            "bin_start": 21.3,
            "bin_end": 25.6,
            "count": 0
           },
           {
            "bin_start": 25.6,
            "bin_end": 29.9,
            "count": 0
           },
           {
            "bin_start": 29.9,
            "bin_end": 34.2,
            "count": 0
           },
           {
            "bin_start": 34.2,
            "bin_end": 38.5,
            "count": 0
           },
           {
            "bin_start": 38.5,
            "bin_end": 42.8,
            "count": 0
           },
           {
            "bin_start": 42.8,
            "bin_end": 47.099999999999994,
            "count": 0
           },
           {
            "bin_start": 47.099999999999994,
            "bin_end": 51.4,
            "count": 0
           },
           {
            "bin_start": 51.4,
            "bin_end": 55.699999999999996,
            "count": 0
           },
           {
            "bin_start": 55.699999999999996,
            "bin_end": 60,
            "count": 4
           }
          ]
         }
        },
        {
         "name": "availability_90",
         "dtype": "int64",
         "stats": {
          "unique_count": 4,
          "nan_count": 0,
          "min": "39",
          "max": "90",
          "histogram": [
           {
            "bin_start": 39,
            "bin_end": 44.1,
            "count": 1
           },
           {
            "bin_start": 44.1,
            "bin_end": 49.2,
            "count": 0
           },
           {
            "bin_start": 49.2,
            "bin_end": 54.3,
            "count": 0
           },
           {
            "bin_start": 54.3,
            "bin_end": 59.4,
            "count": 0
           },
           {
            "bin_start": 59.4,
            "bin_end": 64.5,
            "count": 0
           },
           {
            "bin_start": 64.5,
            "bin_end": 69.6,
            "count": 1
           },
           {
            "bin_start": 69.6,
            "bin_end": 74.69999999999999,
            "count": 0
           },
           {
            "bin_start": 74.69999999999999,
            "bin_end": 79.8,
            "count": 0
           },
           {
            "bin_start": 79.8,
            "bin_end": 84.9,
            "count": 0
           },
           {
            "bin_start": 84.9,
            "bin_end": 90,
            "count": 3
           }
          ]
         }
        },
        {
         "name": "availability_365",
         "dtype": "int64",
         "stats": {
          "unique_count": 5,
          "nan_count": 0,
          "min": "89",
          "max": "365",
          "histogram": [
           {
            "bin_start": 89,
            "bin_end": 116.6,
            "count": 1
           },
           {
            "bin_start": 116.6,
            "bin_end": 144.2,
            "count": 0
           },
           {
            "bin_start": 144.2,
            "bin_end": 171.8,
            "count": 0
           },
           {
            "bin_start": 171.8,
            "bin_end": 199.4,
            "count": 1
           },
           {
            "bin_start": 199.4,
            "bin_end": 227,
            "count": 0
           },
           {
            "bin_start": 227,
            "bin_end": 254.60000000000002,
            "count": 0
           },
           {
            "bin_start": 254.60000000000002,
            "bin_end": 282.20000000000005,
            "count": 2
           },
           {
            "bin_start": 282.20000000000005,
            "bin_end": 309.8,
            "count": 0
           },
           {
            "bin_start": 309.8,
            "bin_end": 337.4,
            "count": 0
           },
           {
            "bin_start": 337.4,
            "bin_end": 365,
            "count": 1
           }
          ]
         }
        },
        {
         "name": "calendar_last_scraped",
         "dtype": "object",
         "stats": {
          "unique_count": 1,
          "nan_count": 0,
          "categories": [
           {
            "name": "2021-12-25",
            "count": 5
           }
          ]
         }
        },
        {
         "name": "number_of_reviews",
         "dtype": "int64",
         "stats": {
          "unique_count": 5,
          "nan_count": 0,
          "min": "0",
          "max": "46",
          "histogram": [
           {
            "bin_start": 0,
            "bin_end": 4.6,
            "count": 2
           },
           {
            "bin_start": 4.6,
            "bin_end": 9.2,
            "count": 0
           },
           {
            "bin_start": 9.2,
            "bin_end": 13.799999999999999,
            "count": 1
           },
           {
            "bin_start": 13.799999999999999,
            "bin_end": 18.4,
            "count": 0
           },
           {
            "bin_start": 18.4,
            "bin_end": 23,
            "count": 0
           },
           {
            "bin_start": 23,
            "bin_end": 27.599999999999998,
            "count": 0
           },
           {
            "bin_start": 27.599999999999998,
            "bin_end": 32.199999999999996,
            "count": 0
           },
           {
            "bin_start": 32.199999999999996,
            "bin_end": 36.8,
            "count": 0
           },
           {
            "bin_start": 36.8,
            "bin_end": 41.4,
            "count": 1
           },
           {
            "bin_start": 41.4,
            "bin_end": 46,
            "count": 1
           }
          ]
         }
        },
        {
         "name": "number_of_reviews_ltm",
         "dtype": "int64",
         "stats": {
          "unique_count": 3,
          "nan_count": 0,
          "min": "0",
          "max": "4",
          "histogram": [
           {
            "bin_start": 0,
            "bin_end": 0.4,
            "count": 2
           },
           {
            "bin_start": 0.4,
            "bin_end": 0.8,
            "count": 0
           },
           {
            "bin_start": 0.8,
            "bin_end": 1.2000000000000002,
            "count": 2
           },
           {
            "bin_start": 1.2000000000000002,
            "bin_end": 1.6,
            "count": 0
           },
           {
            "bin_start": 1.6,
            "bin_end": 2,
            "count": 0
           },
           {
            "bin_start": 2,
            "bin_end": 2.4000000000000004,
            "count": 0
           },
           {
            "bin_start": 2.4000000000000004,
            "bin_end": 2.8000000000000003,
            "count": 0
           },
           {
            "bin_start": 2.8000000000000003,
            "bin_end": 3.2,
            "count": 0
           },
           {
            "bin_start": 3.2,
            "bin_end": 3.6,
            "count": 0
           },
           {
            "bin_start": 3.6,
            "bin_end": 4,
            "count": 1
           }
          ]
         }
        },
        {
         "name": "number_of_reviews_l30d",
         "dtype": "int64",
         "stats": {
          "unique_count": 1,
          "nan_count": 0,
          "min": "0",
          "max": "0",
          "histogram": [
           {
            "bin_start": -0.5,
            "bin_end": -0.4,
            "count": 0
           },
           {
            "bin_start": -0.4,
            "bin_end": -0.3,
            "count": 0
           },
           {
            "bin_start": -0.3,
            "bin_end": -0.19999999999999996,
            "count": 0
           },
           {
            "bin_start": -0.19999999999999996,
            "bin_end": -0.09999999999999998,
            "count": 0
           },
           {
            "bin_start": -0.09999999999999998,
            "bin_end": 0,
            "count": 0
           },
           {
            "bin_start": 0,
            "bin_end": 0.10000000000000009,
            "count": 5
           },
           {
            "bin_start": 0.10000000000000009,
            "bin_end": 0.20000000000000007,
            "count": 0
           },
           {
            "bin_start": 0.20000000000000007,
            "bin_end": 0.30000000000000004,
            "count": 0
           },
           {
            "bin_start": 0.30000000000000004,
            "bin_end": 0.4,
            "count": 0
           },
           {
            "bin_start": 0.4,
            "bin_end": 0.5,
            "count": 0
           }
          ]
         }
        },
        {
         "name": "first_review",
         "dtype": "object",
         "stats": {
          "unique_count": 4,
          "nan_count": 1,
          "categories": [
           {
            "name": "2017-07-20",
            "count": 1
           },
           {
            "name": "3 others",
            "count": 3
           },
           {
            "name": "Missing",
            "count": 1
           }
          ]
         }
        },
        {
         "name": "last_review",
         "dtype": "object",
         "stats": {
          "unique_count": 4,
          "nan_count": 1,
          "categories": [
           {
            "name": "2021-08-30",
            "count": 1
           },
           {
            "name": "3 others",
            "count": 3
           },
           {
            "name": "Missing",
            "count": 1
           }
          ]
         }
        },
        {
         "name": "review_scores_rating",
         "dtype": "float64",
         "stats": {
          "unique_count": 4,
          "nan_count": 1,
          "min": "4.42",
          "max": "5.0",
          "histogram": [
           {
            "bin_start": 4.42,
            "bin_end": 4.478,
            "count": 1
           },
           {
            "bin_start": 4.478,
            "bin_end": 4.536,
            "count": 1
           },
           {
            "bin_start": 4.536,
            "bin_end": 4.594,
            "count": 0
           },
           {
            "bin_start": 4.594,
            "bin_end": 4.652,
            "count": 0
           },
           {
            "bin_start": 4.652,
            "bin_end": 4.71,
            "count": 0
           },
           {
            "bin_start": 4.71,
            "bin_end": 4.768,
            "count": 1
           },
           {
            "bin_start": 4.768,
            "bin_end": 4.826,
            "count": 0
           },
           {
            "bin_start": 4.826,
            "bin_end": 4.884,
            "count": 0
           },
           {
            "bin_start": 4.884,
            "bin_end": 4.942,
            "count": 0
           },
           {
            "bin_start": 4.942,
            "bin_end": 5,
            "count": 1
           }
          ]
         }
        },
        {
         "name": "review_scores_accuracy",
         "dtype": "float64",
         "stats": {
          "unique_count": 4,
          "nan_count": 1,
          "min": "4.59",
          "max": "5.0",
          "histogram": [
           {
            "bin_start": 4.59,
            "bin_end": 4.631,
            "count": 1
           },
           {
            "bin_start": 4.631,
            "bin_end": 4.672,
            "count": 0
           },
           {
            "bin_start": 4.672,
            "bin_end": 4.713,
            "count": 0
           },
           {
            "bin_start": 4.713,
            "bin_end": 4.754,
            "count": 0
           },
           {
            "bin_start": 4.754,
            "bin_end": 4.795,
            "count": 1
           },
           {
            "bin_start": 4.795,
            "bin_end": 4.836,
            "count": 0
           },
           {
            "bin_start": 4.836,
            "bin_end": 4.877,
            "count": 0
           },
           {
            "bin_start": 4.877,
            "bin_end": 4.918,
            "count": 0
           },
           {
            "bin_start": 4.918,
            "bin_end": 4.959,
            "count": 1
           },
           {
            "bin_start": 4.959,
            "bin_end": 5,
            "count": 1
           }
          ]
         }
        },
        {
         "name": "review_scores_cleanliness",
         "dtype": "float64",
         "stats": {
          "unique_count": 4,
          "nan_count": 1,
          "min": "4.42",
          "max": "5.0",
          "histogram": [
           {
            "bin_start": 4.42,
            "bin_end": 4.478,
            "count": 1
           },
           {
            "bin_start": 4.478,
            "bin_end": 4.536,
            "count": 1
           },
           {
            "bin_start": 4.536,
            "bin_end": 4.594,
            "count": 0
           },
           {
            "bin_start": 4.594,
            "bin_end": 4.652,
            "count": 0
           },
           {
            "bin_start": 4.652,
            "bin_end": 4.71,
            "count": 0
           },
           {
            "bin_start": 4.71,
            "bin_end": 4.768,
            "count": 0
           },
           {
            "bin_start": 4.768,
            "bin_end": 4.826,
            "count": 0
           },
           {
            "bin_start": 4.826,
            "bin_end": 4.884,
            "count": 0
           },
           {
            "bin_start": 4.884,
            "bin_end": 4.942,
            "count": 1
           },
           {
            "bin_start": 4.942,
            "bin_end": 5,
            "count": 1
           }
          ]
         }
        },
        {
         "name": "review_scores_checkin",
         "dtype": "float64",
         "stats": {
          "unique_count": 4,
          "nan_count": 1,
          "min": "4.66",
          "max": "5.0",
          "histogram": [
           {
            "bin_start": 4.66,
            "bin_end": 4.694,
            "count": 1
           },
           {
            "bin_start": 4.694,
            "bin_end": 4.728,
            "count": 0
           },
           {
            "bin_start": 4.728,
            "bin_end": 4.7620000000000005,
            "count": 0
           },
           {
            "bin_start": 4.7620000000000005,
            "bin_end": 4.796,
            "count": 0
           },
           {
            "bin_start": 4.796,
            "bin_end": 4.83,
            "count": 0
           },
           {
            "bin_start": 4.83,
            "bin_end": 4.864,
            "count": 0
           },
           {
            "bin_start": 4.864,
            "bin_end": 4.898,
            "count": 1
           },
           {
            "bin_start": 4.898,
            "bin_end": 4.932,
            "count": 1
           },
           {
            "bin_start": 4.932,
            "bin_end": 4.966,
            "count": 0
           },
           {
            "bin_start": 4.966,
            "bin_end": 5,
            "count": 1
           }
          ]
         }
        },
        {
         "name": "review_scores_communication",
         "dtype": "float64",
         "stats": {
          "unique_count": 4,
          "nan_count": 1,
          "min": "4.59",
          "max": "5.0",
          "histogram": [
           {
            "bin_start": 4.59,
            "bin_end": 4.631,
            "count": 1
           },
           {
            "bin_start": 4.631,
            "bin_end": 4.672,
            "count": 0
           },
           {
            "bin_start": 4.672,
            "bin_end": 4.713,
            "count": 0
           },
           {
            "bin_start": 4.713,
            "bin_end": 4.754,
            "count": 0
           },
           {
            "bin_start": 4.754,
            "bin_end": 4.795,
            "count": 0
           },
           {
            "bin_start": 4.795,
            "bin_end": 4.836,
            "count": 1
           },
           {
            "bin_start": 4.836,
            "bin_end": 4.877,
            "count": 0
           },
           {
            "bin_start": 4.877,
            "bin_end": 4.918,
            "count": 1
           },
           {
            "bin_start": 4.918,
            "bin_end": 4.959,
            "count": 0
           },
           {
            "bin_start": 4.959,
            "bin_end": 5,
            "count": 1
           }
          ]
         }
        },
        {
         "name": "review_scores_location",
         "dtype": "float64",
         "stats": {
          "unique_count": 4,
          "nan_count": 1,
          "min": "4.64",
          "max": "5.0",
          "histogram": [
           {
            "bin_start": 4.64,
            "bin_end": 4.676,
            "count": 1
           },
           {
            "bin_start": 4.676,
            "bin_end": 4.712,
            "count": 0
           },
           {
            "bin_start": 4.712,
            "bin_end": 4.747999999999999,
            "count": 1
           },
           {
            "bin_start": 4.747999999999999,
            "bin_end": 4.784,
            "count": 0
           },
           {
            "bin_start": 4.784,
            "bin_end": 4.82,
            "count": 0
           },
           {
            "bin_start": 4.82,
            "bin_end": 4.856,
            "count": 0
           },
           {
            "bin_start": 4.856,
            "bin_end": 4.8919999999999995,
            "count": 0
           },
           {
            "bin_start": 4.8919999999999995,
            "bin_end": 4.928,
            "count": 1
           },
           {
            "bin_start": 4.928,
            "bin_end": 4.964,
            "count": 0
           },
           {
            "bin_start": 4.964,
            "bin_end": 5,
            "count": 1
           }
          ]
         }
        },
        {
         "name": "review_scores_value",
         "dtype": "float64",
         "stats": {
          "unique_count": 4,
          "nan_count": 1,
          "min": "4.36",
          "max": "5.0",
          "histogram": [
           {
            "bin_start": 4.36,
            "bin_end": 4.424,
            "count": 1
           },
           {
            "bin_start": 4.424,
            "bin_end": 4.488,
            "count": 0
           },
           {
            "bin_start": 4.488,
            "bin_end": 4.5520000000000005,
            "count": 0
           },
           {
            "bin_start": 4.5520000000000005,
            "bin_end": 4.6160000000000005,
            "count": 0
           },
           {
            "bin_start": 4.6160000000000005,
            "bin_end": 4.68,
            "count": 0
           },
           {
            "bin_start": 4.68,
            "bin_end": 4.744,
            "count": 1
           },
           {
            "bin_start": 4.744,
            "bin_end": 4.808,
            "count": 1
           },
           {
            "bin_start": 4.808,
            "bin_end": 4.872,
            "count": 0
           },
           {
            "bin_start": 4.872,
            "bin_end": 4.936,
            "count": 0
           },
           {
            "bin_start": 4.936,
            "bin_end": 5,
            "count": 1
           }
          ]
         }
        },
        {
         "name": "license",
         "dtype": "object",
         "stats": {
          "unique_count": 0,
          "nan_count": 5,
          "categories": [
           {
            "name": "Missing",
            "count": 5
           }
          ]
         }
        },
        {
         "name": "instant_bookable",
         "dtype": "object",
         "stats": {
          "unique_count": 2,
          "nan_count": 0,
          "categories": [
           {
            "name": "f",
            "count": 3
           },
           {
            "name": "t",
            "count": 2
           }
          ]
         }
        },
        {
         "name": "calculated_host_listings_count",
         "dtype": "int64",
         "stats": {
          "unique_count": 3,
          "nan_count": 0,
          "min": "1",
          "max": "3",
          "histogram": [
           {
            "bin_start": 1,
            "bin_end": 1.2,
            "count": 2
           },
           {
            "bin_start": 1.2,
            "bin_end": 1.4,
            "count": 0
           },
           {
            "bin_start": 1.4,
            "bin_end": 1.6,
            "count": 0
           },
           {
            "bin_start": 1.6,
            "bin_end": 1.8,
            "count": 0
           },
           {
            "bin_start": 1.8,
            "bin_end": 2,
            "count": 0
           },
           {
            "bin_start": 2,
            "bin_end": 2.2,
            "count": 1
           },
           {
            "bin_start": 2.2,
            "bin_end": 2.4000000000000004,
            "count": 0
           },
           {
            "bin_start": 2.4000000000000004,
            "bin_end": 2.6,
            "count": 0
           },
           {
            "bin_start": 2.6,
            "bin_end": 2.8,
            "count": 0
           },
           {
            "bin_start": 2.8,
            "bin_end": 3,
            "count": 2
           }
          ]
         }
        },
        {
         "name": "calculated_host_listings_count_entire_homes",
         "dtype": "int64",
         "stats": {
          "unique_count": 2,
          "nan_count": 0,
          "min": "1",
          "max": "3",
          "histogram": [
           {
            "bin_start": 1,
            "bin_end": 1.2,
            "count": 3
           },
           {
            "bin_start": 1.2,
            "bin_end": 1.4,
            "count": 0
           },
           {
            "bin_start": 1.4,
            "bin_end": 1.6,
            "count": 0
           },
           {
            "bin_start": 1.6,
            "bin_end": 1.8,
            "count": 0
           },
           {
            "bin_start": 1.8,
            "bin_end": 2,
            "count": 0
           },
           {
            "bin_start": 2,
            "bin_end": 2.2,
            "count": 0
           },
           {
            "bin_start": 2.2,
            "bin_end": 2.4000000000000004,
            "count": 0
           },
           {
            "bin_start": 2.4000000000000004,
            "bin_end": 2.6,
            "count": 0
           },
           {
            "bin_start": 2.6,
            "bin_end": 2.8,
            "count": 0
           },
           {
            "bin_start": 2.8,
            "bin_end": 3,
            "count": 2
           }
          ]
         }
        },
        {
         "name": "calculated_host_listings_count_private_rooms",
         "dtype": "int64",
         "stats": {
          "unique_count": 2,
          "nan_count": 0,
          "min": "0",
          "max": "1",
          "histogram": [
           {
            "bin_start": 0,
            "bin_end": 0.1,
            "count": 4
           },
           {
            "bin_start": 0.1,
            "bin_end": 0.2,
            "count": 0
           },
           {
            "bin_start": 0.2,
            "bin_end": 0.30000000000000004,
            "count": 0
           },
           {
            "bin_start": 0.30000000000000004,
            "bin_end": 0.4,
            "count": 0
           },
           {
            "bin_start": 0.4,
            "bin_end": 0.5,
            "count": 0
           },
           {
            "bin_start": 0.5,
            "bin_end": 0.6000000000000001,
            "count": 0
           },
           {
            "bin_start": 0.6000000000000001,
            "bin_end": 0.7000000000000001,
            "count": 0
           },
           {
            "bin_start": 0.7000000000000001,
            "bin_end": 0.8,
            "count": 0
           },
           {
            "bin_start": 0.8,
            "bin_end": 0.9,
            "count": 0
           },
           {
            "bin_start": 0.9,
            "bin_end": 1,
            "count": 1
           }
          ]
         }
        },
        {
         "name": "calculated_host_listings_count_shared_rooms",
         "dtype": "int64",
         "stats": {
          "unique_count": 1,
          "nan_count": 0,
          "min": "0",
          "max": "0",
          "histogram": [
           {
            "bin_start": -0.5,
            "bin_end": -0.4,
            "count": 0
           },
           {
            "bin_start": -0.4,
            "bin_end": -0.3,
            "count": 0
           },
           {
            "bin_start": -0.3,
            "bin_end": -0.19999999999999996,
            "count": 0
           },
           {
            "bin_start": -0.19999999999999996,
            "bin_end": -0.09999999999999998,
            "count": 0
           },
           {
            "bin_start": -0.09999999999999998,
            "bin_end": 0,
            "count": 0
           },
           {
            "bin_start": 0,
            "bin_end": 0.10000000000000009,
            "count": 5
           },
           {
            "bin_start": 0.10000000000000009,
            "bin_end": 0.20000000000000007,
            "count": 0
           },
           {
            "bin_start": 0.20000000000000007,
            "bin_end": 0.30000000000000004,
            "count": 0
           },
           {
            "bin_start": 0.30000000000000004,
            "bin_end": 0.4,
            "count": 0
           },
           {
            "bin_start": 0.4,
            "bin_end": 0.5,
            "count": 0
           }
          ]
         }
        },
        {
         "name": "reviews_per_month",
         "dtype": "float64",
         "stats": {
          "unique_count": 4,
          "nan_count": 1,
          "min": "0.03",
          "max": "0.57",
          "histogram": [
           {
            "bin_start": 0.03,
            "bin_end": 0.08399999999999999,
            "count": 1
           },
           {
            "bin_start": 0.08399999999999999,
            "bin_end": 0.13799999999999998,
            "count": 0
           },
           {
            "bin_start": 0.13799999999999998,
            "bin_end": 0.19199999999999998,
            "count": 0
           },
           {
            "bin_start": 0.19199999999999998,
            "bin_end": 0.24599999999999997,
            "count": 1
           },
           {
            "bin_start": 0.24599999999999997,
            "bin_end": 0.29999999999999993,
            "count": 0
           },
           {
            "bin_start": 0.29999999999999993,
            "bin_end": 0.354,
            "count": 1
           },
           {
            "bin_start": 0.354,
            "bin_end": 0.4079999999999999,
            "count": 0
           },
           {
            "bin_start": 0.4079999999999999,
            "bin_end": 0.46199999999999997,
            "count": 0
           },
           {
            "bin_start": 0.46199999999999997,
            "bin_end": 0.5159999999999999,
            "count": 0
           },
           {
            "bin_start": 0.5159999999999999,
            "bin_end": 0.57,
            "count": 1
           }
          ]
         }
        },
        {
         "name": "_deepnote_index_column",
         "dtype": "int64"
        }
       ],
       "rows": [
        {
         "id": 30950,
         "listing_url": "https://www.airbnb.com/rooms/30950",
         "scrape_id": 20211225071122,
         "last_scraped": "2021-12-25",
         "name": "Apartment Providencia, Santiago",
         "description": "Located in the heart of Providencia, near by restaurants and bars, parks and cultural centers, near…",
         "neighborhood_overview": "Quiet and typical beatiful neighborghood, a lot of delivery restaurants and typical attractions are…",
         "picture_url": "https://a0.muscache.com/pictures/dedd0a9a-c58a-485a-b58d-2e22b96bf1c4.jpg",
         "host_id": 132845,
         "host_url": "https://www.airbnb.com/users/show/132845",
         "host_name": "Pamela",
         "host_since": "2010-05-26",
         "host_location": "Santiago, Santiago Metropolitan Region, Chile",
         "host_about": "En nuestra familia, ofrecemos éste cómodo departamento full equipo para que puedas trabajar y desca…",
         "host_response_time": "nan",
         "host_response_rate": "nan",
         "host_acceptance_rate": "100%",
         "host_is_superhost": "f",
         "host_thumbnail_url": "https://a0.muscache.com/im/pictures/user/6fd1e721-9c56-4c2a-929e-0d766ce56b4b.jpg?aki_policy=profil…",
         "host_picture_url": "https://a0.muscache.com/im/pictures/user/6fd1e721-9c56-4c2a-929e-0d766ce56b4b.jpg?aki_policy=profil…",
         "host_neighbourhood": "nan",
         "host_listings_count": 1,
         "host_total_listings_count": 1,
         "host_verifications": "['email', 'phone', 'facebook', 'reviews', 'jumio', 'government_id', 'identity_manual']",
         "host_has_profile_pic": "t",
         "host_identity_verified": "t",
         "neighbourhood": "Santiago, Región Metropolitana, Chile",
         "neighbourhood_cleansed": "Providencia",
         "neighbourhood_group_cleansed": "nan",
         "latitude": -33.43174,
         "longitude": -70.61845,
         "property_type": "Entire rental unit",
         "room_type": "Entire home/apt",
         "accommodates": 2,
         "bathrooms": "nan",
         "bathrooms_text": "1 bath",
         "bedrooms": 1,
         "beds": 2,
         "amenities": "[\"Cleaning products\", \"Hangers\", \"Private entrance\", \"Bikes\", \"Freezer\", \"Sound system with Bluetoo…",
         "price": "$260,000.00",
         "minimum_nights": 180,
         "maximum_nights": 1125,
         "minimum_minimum_nights": 180,
         "maximum_minimum_nights": 180,
         "minimum_maximum_nights": 1125,
         "maximum_maximum_nights": 1125,
         "minimum_nights_avg_ntm": 180,
         "maximum_nights_avg_ntm": 1125,
         "calendar_updated": "nan",
         "has_availability": "t",
         "availability_30": 0,
         "availability_60": 17,
         "availability_90": 39,
         "availability_365": 276,
         "calendar_last_scraped": "2021-12-25",
         "number_of_reviews": 12,
         "number_of_reviews_ltm": 4,
         "number_of_reviews_l30d": 0,
         "first_review": "2017-07-20",
         "last_review": "2021-08-30",
         "review_scores_rating": 4.5,
         "review_scores_accuracy": 4.92,
         "review_scores_cleanliness": 4.42,
         "review_scores_checkin": 4.92,
         "review_scores_communication": 4.83,
         "review_scores_location": 4.92,
         "review_scores_value": 4.75,
         "license": "nan",
         "instant_bookable": "f",
         "calculated_host_listings_count": 1,
         "calculated_host_listings_count_entire_homes": 1,
         "calculated_host_listings_count_private_rooms": 0,
         "calculated_host_listings_count_shared_rooms": 0,
         "reviews_per_month": 0.22,
         "_deepnote_index_column": 0
        },
        {
         "id": 49392,
         "listing_url": "https://www.airbnb.com/rooms/49392",
         "scrape_id": 20211225071122,
         "last_scraped": "2021-12-25",
         "name": "Share my Flat in Providencia",
         "description": "<b>The space</b><br />Departamento en el barrio Providencia. Completamente equipado,  Internet, WIF…",
         "neighborhood_overview": "nan",
         "picture_url": "https://a0.muscache.com/pictures/3740612/b1850389_original.jpg",
         "host_id": 224592,
         "host_url": "https://www.airbnb.com/users/show/224592",
         "host_name": "Maria",
         "host_since": "2010-09-05",
         "host_location": "Providencia, Santiago Metropolitan Region, Chile",
         "host_about": "Disfruto viajando, sobre todo a lugares donde  hay playas de agua tibia, me gusta estar en contacto…",
         "host_response_time": "a few days or more",
         "host_response_rate": "33%",
         "host_acceptance_rate": "nan",
         "host_is_superhost": "f",
         "host_thumbnail_url": "https://a0.muscache.com/im/pictures/user/bd1a8f9f-17ee-4fdd-bf7b-6d190405c980.jpg?aki_policy=profil…",
         "host_picture_url": "https://a0.muscache.com/im/pictures/user/bd1a8f9f-17ee-4fdd-bf7b-6d190405c980.jpg?aki_policy=profil…",
         "host_neighbourhood": "nan",
         "host_listings_count": 3,
         "host_total_listings_count": 3,
         "host_verifications": "['email', 'phone', 'facebook', 'jumio', 'government_id']",
         "host_has_profile_pic": "t",
         "host_identity_verified": "t",
         "neighbourhood": "nan",
         "neighbourhood_cleansed": "Providencia",
         "neighbourhood_group_cleansed": "nan",
         "latitude": -33.43266,
         "longitude": -70.60072,
         "property_type": "Private room in rental unit",
         "room_type": "Private room",
         "accommodates": 1,
         "bathrooms": "nan",
         "bathrooms_text": "nan",
         "bedrooms": 1,
         "beds": 1,
         "amenities": "[\"Long term stays allowed\"]",
         "price": "$45,652.00",
         "minimum_nights": 3,
         "maximum_nights": 730,
         "minimum_minimum_nights": 3,
         "maximum_minimum_nights": 3,
         "minimum_maximum_nights": 730,
         "maximum_maximum_nights": 730,
         "minimum_nights_avg_ntm": 3,
         "maximum_nights_avg_ntm": 730,
         "calendar_updated": "nan",
         "has_availability": "t",
         "availability_30": 26,
         "availability_60": 56,
         "availability_90": 86,
         "availability_365": 176,
         "calendar_last_scraped": "2021-12-25",
         "number_of_reviews": 0,
         "number_of_reviews_ltm": 0,
         "number_of_reviews_l30d": 0,
         "first_review": "nan",
         "last_review": "nan",
         "review_scores_rating": "nan",
         "review_scores_accuracy": "nan",
         "review_scores_cleanliness": "nan",
         "review_scores_checkin": "nan",
         "review_scores_communication": "nan",
         "review_scores_location": "nan",
         "review_scores_value": "nan",
         "license": "nan",
         "instant_bookable": "t",
         "calculated_host_listings_count": 2,
         "calculated_host_listings_count_entire_homes": 1,
         "calculated_host_listings_count_private_rooms": 1,
         "calculated_host_listings_count_shared_rooms": 0,
         "reviews_per_month": "nan",
         "_deepnote_index_column": 1
        },
        {
         "id": 52811,
         "listing_url": "https://www.airbnb.com/rooms/52811",
         "scrape_id": 20211225071122,
         "last_scraped": "2021-12-25",
         "name": "Suite Providencia 1 Santiago Chile",
         "description": "Apartment located on the subway station Manuel Montt, Providencia Santiago de Chile.<br /><br /><b>…",
         "neighborhood_overview": "Edificio ubicado en el acceso a la línea del Metro Manuel Montt, no debes caminar de más o cruzar l…",
         "picture_url": "https://a0.muscache.com/pictures/miso/Hosting-52811/original/b2f2afd4-0b5d-48c4-86a1-992ee907dd02.j…",
         "host_id": 244792,
         "host_url": "https://www.airbnb.com/users/show/244792",
         "host_name": "Cristián",
         "host_since": "2010-09-25",
         "host_location": "Providencia, Santiago Metropolitan Region, Chile",
         "host_about": "Un tipo profesional, trabajador, sencillo, con metas y objetivos claros en la vida. \r\n\r\nMe consider…",
         "host_response_time": "within a few hours",
         "host_response_rate": "100%",
         "host_acceptance_rate": "88%",
         "host_is_superhost": "f",
         "host_thumbnail_url": "https://a0.muscache.com/im/users/244792/profile_pic/1398987637/original.jpg?aki_policy=profile_small",
         "host_picture_url": "https://a0.muscache.com/im/users/244792/profile_pic/1398987637/original.jpg?aki_policy=profile_x_me…",
         "host_neighbourhood": "nan",
         "host_listings_count": 3,
         "host_total_listings_count": 3,
         "host_verifications": "['email', 'phone', 'facebook', 'reviews', 'offline_government_id', 'selfie', 'government_id', 'iden…",
         "host_has_profile_pic": "t",
         "host_identity_verified": "t",
         "neighbourhood": "Providencia, Región Metropolitana, Chile",
         "neighbourhood_cleansed": "Providencia",
         "neighbourhood_group_cleansed": "nan",
         "latitude": -33.42959,
         "longitude": -70.6188,
         "property_type": "Entire rental unit",
         "room_type": "Entire home/apt",
         "accommodates": 4,
         "bathrooms": "nan",
         "bathrooms_text": "1 bath",
         "bedrooms": 1,
         "beds": 1,
         "amenities": "[\"Hangers\", \"Cooking basics\", \"First aid kit\", \"Host greets you\", \"Dryer\", \"Shampoo\", \"Hot water\", …",
         "price": "$46,513.00",
         "minimum_nights": 1,
         "maximum_nights": 1825,
         "minimum_minimum_nights": 1,
         "maximum_minimum_nights": 1,
         "minimum_maximum_nights": 1125,
         "maximum_maximum_nights": 1125,
         "minimum_nights_avg_ntm": 1,
         "maximum_nights_avg_ntm": 1125,
         "calendar_updated": "nan",
         "has_availability": "t",
         "availability_30": 29,
         "availability_60": 59,
         "availability_90": 65,
         "availability_365": 89,
         "calendar_last_scraped": "2021-12-25",
         "number_of_reviews": 46,
         "number_of_reviews_ltm": 1,
         "number_of_reviews_l30d": 0,
         "first_review": "2010-11-13",
         "last_review": "2021-11-04",
         "review_scores_rating": 4.42,
         "review_scores_accuracy": 4.59,
         "review_scores_cleanliness": 4.52,
         "review_scores_checkin": 4.66,
         "review_scores_communication": 4.59,
         "review_scores_location": 4.64,
         "review_scores_value": 4.36,
         "license": "nan",
         "instant_bookable": "t",
         "calculated_host_listings_count": 3,
         "calculated_host_listings_count_entire_homes": 3,
         "calculated_host_listings_count_private_rooms": 0,
         "calculated_host_listings_count_shared_rooms": 0,
         "reviews_per_month": 0.34,
         "_deepnote_index_column": 2
        },
        {
         "id": 53494,
         "listing_url": "https://www.airbnb.com/rooms/53494",
         "scrape_id": 20211225071122,
         "last_scraped": "2021-12-25",
         "name": "depto centro ski el colorado chile",
         "description": "<b>The space</b><br />depto 2 dormitorios equipado 8 personas lado cancha de ski el colorado santia…",
         "neighborhood_overview": "nan",
         "picture_url": "https://a0.muscache.com/pictures/310938/cae3f1a3_original.jpg",
         "host_id": 249097,
         "host_url": "https://www.airbnb.com/users/show/249097",
         "host_name": "Paulina",
         "host_since": "2010-09-29",
         "host_location": "CL",
         "host_about": "Soy dentista, casada,4 hijos",
         "host_response_time": "within a few hours",
         "host_response_rate": "100%",
         "host_acceptance_rate": "75%",
         "host_is_superhost": "f",
         "host_thumbnail_url": "https://a0.muscache.com/im/pictures/user/6d0ff7e0-5b79-416a-b02d-b6c5b265ba6f.jpg?aki_policy=profil…",
         "host_picture_url": "https://a0.muscache.com/im/pictures/user/6d0ff7e0-5b79-416a-b02d-b6c5b265ba6f.jpg?aki_policy=profil…",
         "host_neighbourhood": "nan",
         "host_listings_count": 3,
         "host_total_listings_count": 3,
         "host_verifications": "['email', 'phone', 'facebook', 'reviews', 'jumio', 'offline_government_id', 'selfie', 'government_i…",
         "host_has_profile_pic": "t",
         "host_identity_verified": "t",
         "neighbourhood": "nan",
         "neighbourhood_cleansed": "Lo Barnechea",
         "neighbourhood_group_cleansed": "nan",
         "latitude": -33.34344,
         "longitude": -70.29432,
         "property_type": "Entire rental unit",
         "room_type": "Entire home/apt",
         "accommodates": 8,
         "bathrooms": "nan",
         "bathrooms_text": "2 baths",
         "bedrooms": 2,
         "beds": 8,
         "amenities": "[\"Free parking on premises\", \"Essentials\", \"Kitchen\", \"Heating\", \"Cable TV\", \"Long term stays allow…",
         "price": "$149,999.00",
         "minimum_nights": 2,
         "maximum_nights": 730,
         "minimum_minimum_nights": 2,
         "maximum_minimum_nights": 2,
         "minimum_maximum_nights": 730,
         "maximum_maximum_nights": 730,
         "minimum_nights_avg_ntm": 2,
         "maximum_nights_avg_ntm": 730,
         "calendar_updated": "nan",
         "has_availability": "t",
         "availability_30": 30,
         "availability_60": 60,
         "availability_90": 90,
         "availability_365": 266,
         "calendar_last_scraped": "2021-12-25",
         "number_of_reviews": 38,
         "number_of_reviews_ltm": 1,
         "number_of_reviews_l30d": 0,
         "first_review": "2016-06-21",
         "last_review": "2021-05-22",
         "review_scores_rating": 4.76,
         "review_scores_accuracy": 4.78,
         "review_scores_cleanliness": 4.89,
         "review_scores_checkin": 4.89,
         "review_scores_communication": 4.89,
         "review_scores_location": 4.73,
         "review_scores_value": 4.68,
         "license": "nan",
         "instant_bookable": "f",
         "calculated_host_listings_count": 1,
         "calculated_host_listings_count_entire_homes": 1,
         "calculated_host_listings_count_private_rooms": 0,
         "calculated_host_listings_count_shared_rooms": 0,
         "reviews_per_month": 0.57,
         "_deepnote_index_column": 3
        },
        {
         "id": 55303,
         "listing_url": "https://www.airbnb.com/rooms/55303",
         "scrape_id": 20211225071122,
         "last_scraped": "2021-12-25",
         "name": "Plaza Lyon piso 3",
         "description": "Apartamento de dos dormitorios, capacidad hasta 5 personas excelente ubicación, silencioso, aire ac…",
         "neighborhood_overview": "Se encuentra en el corazón de Providencia; cafés, restaurantes, salas de espectáculos, bancos, tien…",
         "picture_url": "https://a0.muscache.com/pictures/326169/2a843913_original.jpg",
         "host_id": 261079,
         "host_url": "https://www.airbnb.com/users/show/261079",
         "host_name": "Hernan",
         "host_since": "2010-10-13",
         "host_location": "Punta Arenas, Magallanes Province, Chile",
         "host_about": "I am from Chile, I live in Punta Arenas and I have several apartments for rent in Santiago",
         "host_response_time": "within a day",
         "host_response_rate": "67%",
         "host_acceptance_rate": "8%",
         "host_is_superhost": "f",
         "host_thumbnail_url": "https://a0.muscache.com/im/pictures/user/dac51ef5-9ba3-48e5-bad6-d9eb6c2dab97.jpg?aki_policy=profil…",
         "host_picture_url": "https://a0.muscache.com/im/pictures/user/dac51ef5-9ba3-48e5-bad6-d9eb6c2dab97.jpg?aki_policy=profil…",
         "host_neighbourhood": "nan",
         "host_listings_count": 4,
         "host_total_listings_count": 4,
         "host_verifications": "['email', 'phone', 'facebook', 'reviews', 'jumio', 'government_id']",
         "host_has_profile_pic": "t",
         "host_identity_verified": "t",
         "neighbourhood": "Santiago, Región Metropolitana, Chile",
         "neighbourhood_cleansed": "Providencia",
         "neighbourhood_group_cleansed": "nan",
         "latitude": -33.4225,
         "longitude": -70.6092,
         "property_type": "Entire rental unit",
         "room_type": "Entire home/apt",
         "accommodates": 5,
         "bathrooms": "nan",
         "bathrooms_text": "2 baths",
         "bedrooms": 2,
         "beds": 4,
         "amenities": "[\"Wifi\", \"Kitchen\", \"Heating\", \"Cable TV\", \"Long term stays allowed\", \"Elevator\", \"TV with standard…",
         "price": "$70,000.00",
         "minimum_nights": 2,
         "maximum_nights": 730,
         "minimum_minimum_nights": 2,
         "maximum_minimum_nights": 2,
         "minimum_maximum_nights": 730,
         "maximum_maximum_nights": 730,
         "minimum_nights_avg_ntm": 2,
         "maximum_nights_avg_ntm": 730,
         "calendar_updated": "nan",
         "has_availability": "t",
         "availability_30": 30,
         "availability_60": 60,
         "availability_90": 90,
         "availability_365": 365,
         "calendar_last_scraped": "2021-12-25",
         "number_of_reviews": 2,
         "number_of_reviews_ltm": 0,
         "number_of_reviews_l30d": 0,
         "first_review": "2015-11-04",
         "last_review": "2016-11-28",
         "review_scores_rating": 5,
         "review_scores_accuracy": 5,
         "review_scores_cleanliness": 5,
         "review_scores_checkin": 5,
         "review_scores_communication": 5,
         "review_scores_location": 5,
         "review_scores_value": 5,
         "license": "nan",
         "instant_bookable": "f",
         "calculated_host_listings_count": 3,
         "calculated_host_listings_count_entire_homes": 3,
         "calculated_host_listings_count_private_rooms": 0,
         "calculated_host_listings_count_shared_rooms": 0,
         "reviews_per_month": 0.03,
         "_deepnote_index_column": 4
        }
       ]
      },
      "text/plain": "      id                         listing_url       scrape_id last_scraped  \\\n0  30950  https://www.airbnb.com/rooms/30950  20211225071122   2021-12-25   \n1  49392  https://www.airbnb.com/rooms/49392  20211225071122   2021-12-25   \n2  52811  https://www.airbnb.com/rooms/52811  20211225071122   2021-12-25   \n3  53494  https://www.airbnb.com/rooms/53494  20211225071122   2021-12-25   \n4  55303  https://www.airbnb.com/rooms/55303  20211225071122   2021-12-25   \n\n                                 name  \\\n0     Apartment Providencia, Santiago   \n1        Share my Flat in Providencia   \n2  Suite Providencia 1 Santiago Chile   \n3  depto centro ski el colorado chile   \n4                   Plaza Lyon piso 3   \n\n                                         description  \\\n0  Located in the heart of Providencia, near by r...   \n1  <b>The space</b><br />Departamento en el barri...   \n2  Apartment located on the subway station Manuel...   \n3  <b>The space</b><br />depto 2 dormitorios equi...   \n4  Apartamento de dos dormitorios, capacidad hast...   \n\n                               neighborhood_overview  \\\n0  Quiet and typical beatiful neighborghood, a lo...   \n1                                                NaN   \n2  Edificio ubicado en el acceso a la línea del M...   \n3                                                NaN   \n4  Se encuentra en el corazón de Providencia; caf...   \n\n                                         picture_url  host_id  \\\n0  https://a0.muscache.com/pictures/dedd0a9a-c58a...   132845   \n1  https://a0.muscache.com/pictures/3740612/b1850...   224592   \n2  https://a0.muscache.com/pictures/miso/Hosting-...   244792   \n3  https://a0.muscache.com/pictures/310938/cae3f1...   249097   \n4  https://a0.muscache.com/pictures/326169/2a8439...   261079   \n\n                                   host_url  ... review_scores_communication  \\\n0  https://www.airbnb.com/users/show/132845  ...                        4.83   \n1  https://www.airbnb.com/users/show/224592  ...                         NaN   \n2  https://www.airbnb.com/users/show/244792  ...                        4.59   \n3  https://www.airbnb.com/users/show/249097  ...                        4.89   \n4  https://www.airbnb.com/users/show/261079  ...                        5.00   \n\n  review_scores_location review_scores_value license instant_bookable  \\\n0                   4.92                4.75     NaN                f   \n1                    NaN                 NaN     NaN                t   \n2                   4.64                4.36     NaN                t   \n3                   4.73                4.68     NaN                f   \n4                   5.00                5.00     NaN                f   \n\n  calculated_host_listings_count calculated_host_listings_count_entire_homes  \\\n0                              1                                           1   \n1                              2                                           1   \n2                              3                                           3   \n3                              1                                           1   \n4                              3                                           3   \n\n  calculated_host_listings_count_private_rooms  \\\n0                                            0   \n1                                            1   \n2                                            0   \n3                                            0   \n4                                            0   \n\n  calculated_host_listings_count_shared_rooms reviews_per_month  \n0                                           0              0.22  \n1                                           0               NaN  \n2                                           0              0.34  \n3                                           0              0.57  \n4                                           0              0.03  \n\n[5 rows x 74 columns]",
      "text/html": "<div>\n<style scoped>\n    .dataframe tbody tr th:only-of-type {\n        vertical-align: middle;\n    }\n\n    .dataframe tbody tr th {\n        vertical-align: top;\n    }\n\n    .dataframe thead th {\n        text-align: right;\n    }\n</style>\n<table border=\"1\" class=\"dataframe\">\n  <thead>\n    <tr style=\"text-align: right;\">\n      <th></th>\n      <th>id</th>\n      <th>listing_url</th>\n      <th>scrape_id</th>\n      <th>last_scraped</th>\n      <th>name</th>\n      <th>description</th>\n      <th>neighborhood_overview</th>\n      <th>picture_url</th>\n      <th>host_id</th>\n      <th>host_url</th>\n      <th>...</th>\n      <th>review_scores_communication</th>\n      <th>review_scores_location</th>\n      <th>review_scores_value</th>\n      <th>license</th>\n      <th>instant_bookable</th>\n      <th>calculated_host_listings_count</th>\n      <th>calculated_host_listings_count_entire_homes</th>\n      <th>calculated_host_listings_count_private_rooms</th>\n      <th>calculated_host_listings_count_shared_rooms</th>\n      <th>reviews_per_month</th>\n    </tr>\n  </thead>\n  <tbody>\n    <tr>\n      <th>0</th>\n      <td>30950</td>\n      <td>https://www.airbnb.com/rooms/30950</td>\n      <td>20211225071122</td>\n      <td>2021-12-25</td>\n      <td>Apartment Providencia, Santiago</td>\n      <td>Located in the heart of Providencia, near by r...</td>\n      <td>Quiet and typical beatiful neighborghood, a lo...</td>\n      <td>https://a0.muscache.com/pictures/dedd0a9a-c58a...</td>\n      <td>132845</td>\n      <td>https://www.airbnb.com/users/show/132845</td>\n      <td>...</td>\n      <td>4.83</td>\n      <td>4.92</td>\n      <td>4.75</td>\n      <td>NaN</td>\n      <td>f</td>\n      <td>1</td>\n      <td>1</td>\n      <td>0</td>\n      <td>0</td>\n      <td>0.22</td>\n    </tr>\n    <tr>\n      <th>1</th>\n      <td>49392</td>\n      <td>https://www.airbnb.com/rooms/49392</td>\n      <td>20211225071122</td>\n      <td>2021-12-25</td>\n      <td>Share my Flat in Providencia</td>\n      <td>&lt;b&gt;The space&lt;/b&gt;&lt;br /&gt;Departamento en el barri...</td>\n      <td>NaN</td>\n      <td>https://a0.muscache.com/pictures/3740612/b1850...</td>\n      <td>224592</td>\n      <td>https://www.airbnb.com/users/show/224592</td>\n      <td>...</td>\n      <td>NaN</td>\n      <td>NaN</td>\n      <td>NaN</td>\n      <td>NaN</td>\n      <td>t</td>\n      <td>2</td>\n      <td>1</td>\n      <td>1</td>\n      <td>0</td>\n      <td>NaN</td>\n    </tr>\n    <tr>\n      <th>2</th>\n      <td>52811</td>\n      <td>https://www.airbnb.com/rooms/52811</td>\n      <td>20211225071122</td>\n      <td>2021-12-25</td>\n      <td>Suite Providencia 1 Santiago Chile</td>\n      <td>Apartment located on the subway station Manuel...</td>\n      <td>Edificio ubicado en el acceso a la línea del M...</td>\n      <td>https://a0.muscache.com/pictures/miso/Hosting-...</td>\n      <td>244792</td>\n      <td>https://www.airbnb.com/users/show/244792</td>\n      <td>...</td>\n      <td>4.59</td>\n      <td>4.64</td>\n      <td>4.36</td>\n      <td>NaN</td>\n      <td>t</td>\n      <td>3</td>\n      <td>3</td>\n      <td>0</td>\n      <td>0</td>\n      <td>0.34</td>\n    </tr>\n    <tr>\n      <th>3</th>\n      <td>53494</td>\n      <td>https://www.airbnb.com/rooms/53494</td>\n      <td>20211225071122</td>\n      <td>2021-12-25</td>\n      <td>depto centro ski el colorado chile</td>\n      <td>&lt;b&gt;The space&lt;/b&gt;&lt;br /&gt;depto 2 dormitorios equi...</td>\n      <td>NaN</td>\n      <td>https://a0.muscache.com/pictures/310938/cae3f1...</td>\n      <td>249097</td>\n      <td>https://www.airbnb.com/users/show/249097</td>\n      <td>...</td>\n      <td>4.89</td>\n      <td>4.73</td>\n      <td>4.68</td>\n      <td>NaN</td>\n      <td>f</td>\n      <td>1</td>\n      <td>1</td>\n      <td>0</td>\n      <td>0</td>\n      <td>0.57</td>\n    </tr>\n    <tr>\n      <th>4</th>\n      <td>55303</td>\n      <td>https://www.airbnb.com/rooms/55303</td>\n      <td>20211225071122</td>\n      <td>2021-12-25</td>\n      <td>Plaza Lyon piso 3</td>\n      <td>Apartamento de dos dormitorios, capacidad hast...</td>\n      <td>Se encuentra en el corazón de Providencia; caf...</td>\n      <td>https://a0.muscache.com/pictures/326169/2a8439...</td>\n      <td>261079</td>\n      <td>https://www.airbnb.com/users/show/261079</td>\n      <td>...</td>\n      <td>5.00</td>\n      <td>5.00</td>\n      <td>5.00</td>\n      <td>NaN</td>\n      <td>f</td>\n      <td>3</td>\n      <td>3</td>\n      <td>0</td>\n      <td>0</td>\n      <td>0.03</td>\n    </tr>\n  </tbody>\n</table>\n<p>5 rows × 74 columns</p>\n</div>"
     },
     "metadata": {}
    }
   ],
   "execution_count": null
  },
  {
   "cell_type": "markdown",
   "source": "## Excercise 1\n\nDetermine wich variables you consider that could be used as a inputs for the construction of the lineal model. Remove the unwanted columns from the model",
   "metadata": {
    "cell_id": "bd576ea3-94de-4943-8130-33ab464be1af",
    "tags": [],
    "deepnote_cell_type": "markdown"
   }
  },
  {
   "cell_type": "markdown",
   "source": "**Answer**",
   "metadata": {
    "cell_id": "fac8e530-d62d-4c29-933c-712e8ebaeb3a",
    "tags": [],
    "deepnote_cell_type": "markdown"
   }
  },
  {
   "cell_type": "markdown",
   "source": "",
   "metadata": {
    "cell_id": "f96bca99-12d2-40d8-a7cd-9cb9df7d68cb",
    "tags": [],
    "deepnote_cell_type": "markdown"
   }
  },
  {
   "cell_type": "markdown",
   "source": "## Excercise 2\n\nGenerate a scatter plot in order to explore the relationships among the variables that you consider that could be important for the model",
   "metadata": {
    "cell_id": "3e450e88-aaca-434a-95a9-0b29c703f2bf",
    "tags": [],
    "deepnote_cell_type": "markdown"
   }
  },
  {
   "cell_type": "markdown",
   "source": "**Answer**",
   "metadata": {
    "cell_id": "6fd77394-deb0-43be-beff-4ce94a103b37",
    "tags": [],
    "deepnote_cell_type": "markdown"
   }
  },
  {
   "cell_type": "markdown",
   "source": "",
   "metadata": {
    "cell_id": "65b63850-7f94-486b-90f9-ace5a402d8fd",
    "tags": [],
    "deepnote_cell_type": "markdown"
   }
  },
  {
   "cell_type": "markdown",
   "source": "## Excercise 3\n\nGenerate a correlation matrix between the numerical values of the dataframe ",
   "metadata": {
    "cell_id": "76a325d4-6b35-4058-aced-787240eac34d",
    "tags": [],
    "deepnote_cell_type": "markdown"
   }
  },
  {
   "cell_type": "markdown",
   "source": "**Answer**",
   "metadata": {
    "cell_id": "13a46233-b849-4ac8-81be-cf99038ee5c8",
    "tags": [],
    "deepnote_cell_type": "markdown"
   }
  },
  {
   "cell_type": "markdown",
   "source": "",
   "metadata": {
    "cell_id": "d7bedb52-4db1-470f-bc41-fe8945cbea24",
    "tags": [],
    "deepnote_cell_type": "markdown"
   }
  },
  {
   "cell_type": "markdown",
   "source": "## Excercise 4\n\nRun a lineal model for all the numerical variables of the model. What can you conclude about it? What variables are significant on the model? ",
   "metadata": {
    "cell_id": "581e3158-f890-4a2f-b1fe-1ad698652979",
    "tags": [],
    "deepnote_cell_type": "markdown"
   }
  },
  {
   "cell_type": "markdown",
   "source": "**Answer**",
   "metadata": {
    "cell_id": "9cb13c68-053e-4d54-af4f-58a36d404734",
    "tags": [],
    "deepnote_cell_type": "markdown"
   }
  },
  {
   "cell_type": "markdown",
   "source": "",
   "metadata": {
    "cell_id": "99e6ac5e-20ce-4697-8290-363f6e9a1444",
    "tags": [],
    "deepnote_cell_type": "markdown"
   }
  },
  {
   "cell_type": "markdown",
   "source": "## Excercise 5\n\nAdd the categorical variables to the previous model. What can you conclude about it? What variables are significant on the model?",
   "metadata": {
    "cell_id": "ac670157-1e99-4f4d-aa95-0de9a30f98d7",
    "tags": [],
    "deepnote_cell_type": "markdown"
   }
  },
  {
   "cell_type": "markdown",
   "source": "**Answer**",
   "metadata": {
    "cell_id": "a036fc95-0cd9-4475-9315-98ddbffac57c",
    "tags": [],
    "deepnote_cell_type": "markdown"
   }
  },
  {
   "cell_type": "markdown",
   "source": "",
   "metadata": {
    "cell_id": "ae31d273-2e12-4b15-81c9-18b7531ee50a",
    "tags": [],
    "deepnote_cell_type": "markdown"
   }
  },
  {
   "cell_type": "markdown",
   "source": "## Excercise 6\n\nWhat can you tell about the residuals of the model? ",
   "metadata": {
    "cell_id": "cb726d47-09db-421b-ac5c-7c545d835f74",
    "tags": [],
    "deepnote_cell_type": "markdown"
   }
  },
  {
   "cell_type": "markdown",
   "source": "**Answer**",
   "metadata": {
    "cell_id": "0edf82cc-dca0-45c1-a1b7-7b58242c2fa2",
    "tags": [],
    "deepnote_cell_type": "markdown"
   }
  },
  {
   "cell_type": "markdown",
   "source": "",
   "metadata": {
    "cell_id": "52d970a6-fb98-46bc-b167-76c7b4bc59ce",
    "tags": [],
    "deepnote_cell_type": "markdown"
   }
  },
  {
   "cell_type": "markdown",
   "source": "## Excercise 7\n\nCheck for any obvious outliers in the variables. Make the corrections that must be done in order to ",
   "metadata": {
    "cell_id": "8bb9d939-dc78-43c8-9e02-d7b82a297679",
    "tags": [],
    "deepnote_cell_type": "markdown"
   }
  },
  {
   "cell_type": "markdown",
   "source": "**Answer**",
   "metadata": {
    "cell_id": "f35695ec-2e43-49ec-815d-05a22503e272",
    "tags": [],
    "deepnote_cell_type": "markdown"
   }
  },
  {
   "cell_type": "markdown",
   "source": "",
   "metadata": {
    "cell_id": "8f22f41a-fd39-4c41-9f14-3243e0ee1481",
    "tags": [],
    "deepnote_cell_type": "markdown"
   }
  },
  {
   "cell_type": "markdown",
   "source": "## Excercise 8\n\nCheck the model for Heteroskedasticity. What can you tell from the results of the test?",
   "metadata": {
    "cell_id": "6ae01543-9096-41b8-80c3-644ba32c5638",
    "tags": [],
    "deepnote_cell_type": "markdown"
   }
  },
  {
   "cell_type": "markdown",
   "source": "**Answer**",
   "metadata": {
    "cell_id": "0ef5bfa7-0b2b-479e-a262-58bfa78facfa",
    "tags": [],
    "deepnote_cell_type": "markdown"
   }
  },
  {
   "cell_type": "markdown",
   "source": "",
   "metadata": {
    "cell_id": "95c229fe-18d3-4e33-a723-7c7df9422bb7",
    "tags": [],
    "deepnote_cell_type": "markdown"
   }
  },
  {
   "cell_type": "markdown",
   "source": "## Excercise 9\n\nCheck the studentized residuals in order to find any not-so-obvious outliers. What can you conclude about it?",
   "metadata": {
    "cell_id": "e6780c10-e711-403f-b099-ea1508ac2b58",
    "tags": [],
    "deepnote_cell_type": "markdown"
   }
  },
  {
   "cell_type": "markdown",
   "source": "**Answer**",
   "metadata": {
    "cell_id": "b1d95d81-4aac-4997-8943-dcf2486c63ed",
    "tags": [],
    "deepnote_cell_type": "markdown"
   }
  },
  {
   "cell_type": "markdown",
   "source": "",
   "metadata": {
    "cell_id": "e8fd1a16-c261-499f-a2e8-fe41afc7da6e",
    "tags": [],
    "deepnote_cell_type": "markdown"
   }
  },
  {
   "cell_type": "markdown",
   "source": "## Excercise 10\n\nCheck the model for Multicollinearity. What can you conclude about it?",
   "metadata": {
    "cell_id": "c1334cc1-b9a8-4148-aee1-7b95c804e82b",
    "tags": [],
    "deepnote_cell_type": "markdown"
   }
  },
  {
   "cell_type": "markdown",
   "source": "**Answer**",
   "metadata": {
    "cell_id": "e665ba0e-7aa5-4956-b237-fd481cb6e436",
    "tags": [],
    "deepnote_cell_type": "markdown"
   }
  },
  {
   "cell_type": "markdown",
   "source": "",
   "metadata": {
    "cell_id": "2afa9266-569f-4563-ae9c-befd58502b1c",
    "tags": [],
    "deepnote_cell_type": "markdown"
   }
  },
  {
   "cell_type": "markdown",
   "source": "## Excercise 10\n\nWhat variable transformation would you think that would help to improve the model? Run the new models and compare the results with previous models.",
   "metadata": {
    "cell_id": "3a4d6797-cf1e-4ea1-8917-c3afa8cb2b4e",
    "tags": [],
    "deepnote_cell_type": "markdown"
   }
  },
  {
   "cell_type": "markdown",
   "source": "**Answer**",
   "metadata": {
    "cell_id": "cd52067f-2da4-47e1-8dbb-714811a04c69",
    "tags": [],
    "deepnote_cell_type": "markdown"
   }
  },
  {
   "cell_type": "markdown",
   "source": "",
   "metadata": {
    "cell_id": "f5960a53-d751-4493-90ed-31ad8fac4cba",
    "tags": [],
    "deepnote_cell_type": "markdown"
   }
  },
  {
   "cell_type": "markdown",
   "source": "## Excercise 11\n\nWhat is the best model you can come up with?",
   "metadata": {
    "cell_id": "45810148-4ba6-4aa9-b741-d3fcd3c7b1e7",
    "tags": [],
    "deepnote_cell_type": "markdown"
   }
  },
  {
   "cell_type": "markdown",
   "source": "**Answer**",
   "metadata": {
    "cell_id": "b044a1ef-a2f0-416a-b934-478426934f22",
    "tags": [],
    "deepnote_cell_type": "markdown"
   }
  },
  {
   "cell_type": "markdown",
   "source": "",
   "metadata": {
    "cell_id": "f805f48c-3ec8-4e55-9fd9-d229f4e7c7ba",
    "tags": [],
    "deepnote_cell_type": "markdown"
   }
  },
  {
   "cell_type": "markdown",
   "source": "<a style='text-decoration:none;line-height:16px;display:flex;color:#5B5B62;padding:10px;justify-content:end;' href='https://deepnote.com?utm_source=created-in-deepnote-cell&projectId=96262903-a28f-4719-a328-dc59e3cfa77f' target=\"_blank\">\n<img alt='Created in deepnote.com' style='display:inline;max-height:16px;margin:0px;margin-right:7.5px;' src='data:image/svg+xml;base64,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' > </img>\nCreated in <span style='font-weight:600;margin-left:4px;'>Deepnote</span></a>",
   "metadata": {
    "tags": [],
    "created_in_deepnote_cell": true,
    "deepnote_cell_type": "markdown"
   }
  }
 ],
 "nbformat": 4,
 "nbformat_minor": 2,
 "metadata": {
  "orig_nbformat": 2,
  "deepnote": {
   "is_reactive": false
  },
  "deepnote_notebook_id": "e7f68842-e662-41ec-aafe-040bb5dd1c68",
  "deepnote_execution_queue": []
 }
}